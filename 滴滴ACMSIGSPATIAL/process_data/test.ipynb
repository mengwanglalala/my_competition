{
 "cells": [
  {
   "cell_type": "code",
   "execution_count": 10,
   "metadata": {
    "collapsed": true
   },
   "outputs": [
    {
     "data": {
      "text/plain": "      one  two three\n0  [1, 2]  1.2   4.2\n1  [1, 2]   70  0.03\n2  [1, 2]    5     0",
      "text/html": "<div>\n<style scoped>\n    .dataframe tbody tr th:only-of-type {\n        vertical-align: middle;\n    }\n\n    .dataframe tbody tr th {\n        vertical-align: top;\n    }\n\n    .dataframe thead th {\n        text-align: right;\n    }\n</style>\n<table border=\"1\" class=\"dataframe\">\n  <thead>\n    <tr style=\"text-align: right;\">\n      <th></th>\n      <th>one</th>\n      <th>two</th>\n      <th>three</th>\n    </tr>\n  </thead>\n  <tbody>\n    <tr>\n      <th>0</th>\n      <td>[1, 2]</td>\n      <td>1.2</td>\n      <td>4.2</td>\n    </tr>\n    <tr>\n      <th>1</th>\n      <td>[1, 2]</td>\n      <td>70</td>\n      <td>0.03</td>\n    </tr>\n    <tr>\n      <th>2</th>\n      <td>[1, 2]</td>\n      <td>5</td>\n      <td>0</td>\n    </tr>\n  </tbody>\n</table>\n</div>"
     },
     "execution_count": 10,
     "metadata": {},
     "output_type": "execute_result"
    }
   ],
   "source": [
    "import pandas as pd\n",
    "import tqdm\n",
    "import os\n",
    "import numpy as np\n",
    "from gensim import models\n",
    "a = [[[1,2], '1.2', '4.2'], [[1,2], '70', '0.03'], [[1,2], '5', '0']]\n",
    "df = pd.DataFrame(a, columns=['one', 'two', 'three'])\n",
    "df.head()"
   ]
  },
  {
   "cell_type": "code",
   "execution_count": 12,
   "outputs": [
    {
     "name": "stderr",
     "output_type": "stream",
     "text": [
      "100%|██████████| 1/1 [00:17<00:00, 17.72s/it]\n"
     ]
    },
    {
     "name": "stdout",
     "output_type": "stream",
     "text": [
      "links\n",
      "20200801_links.npz\n"
     ]
    }
   ],
   "source": [
    "import pandas as pd\n",
    "import numpy as np\n",
    "from gensim import models\n",
    "from tqdm import tqdm\n",
    "import os\n",
    "def to_text_vector(words, model):\n",
    "    # words = txt.split(',')\n",
    "    array = np.asarray([model.wv[w] for w in words if w in words], dtype='float32')\n",
    "    return array.mean(axis=0)\n",
    "\n",
    "\n",
    "train_path = r\"../data/train_fea/\"\n",
    "filenames = os.listdir(train_path)\n",
    "filenames.sort(key=lambda x: int(x[6:8]))\n",
    "train_data = []\n",
    "\n",
    "'''\n",
    "link id\n",
    "link time\n",
    "link ratio\n",
    "link current status\n",
    "\n",
    "这里link arrival status 没有被使用保存\n",
    "\n",
    "cross id\n",
    "cross time\n",
    "'''\n",
    "filenames = [\"20200801_links.npz\"]"
   ],
   "metadata": {
    "collapsed": false,
    "pycharm": {
     "name": "#%%\n"
    }
   }
  },
  {
   "cell_type": "code",
   "execution_count": 20,
   "outputs": [],
   "source": [
    "train_link_data = np.load(train_path + filenames[0])\n",
    "train_rnn1 = train_link_data['data']\n",
    "lkid_list1 = train_rnn1[:, :, 1].astype(int).tolist()  # his id"
   ],
   "metadata": {
    "collapsed": false,
    "pycharm": {
     "name": "#%%\n"
    }
   }
  },
  {
   "cell_type": "code",
   "execution_count": 21,
   "outputs": [],
   "source": [
    "df = pd.DataFrame(lkid_list1)"
   ],
   "metadata": {
    "collapsed": false,
    "pycharm": {
     "name": "#%%\n"
    }
   }
  },
  {
   "cell_type": "code",
   "execution_count": 22,
   "outputs": [
    {
     "data": {
      "text/plain": "   0    1    2    3    4    5    6    7    8    9    ...  491  492  493  494  \\\n0    0    0    0    0    0    0    0    0    0    0  ...    3    2    4   11   \n1    0    0    0    0    0    0    0    0    0    0  ...   10   31    4    8   \n2    0    0    0    0    0    0    0    0    0    0  ...    8    4   40    6   \n3    0    0    0    0    0    0    0    0    0    0  ...    2    3   12    1   \n4    0    0    0    0    0    0    0    0    0    0  ...    5   14    3    8   \n\n   495  496  497  498  499  500  \n0   16    2    1    0    1    9  \n1    7   10    5    5    1   19  \n2    9    1    7   27   10    2  \n3    5    3    1    2    7    0  \n4    6    8    5    4    1    7  \n\n[5 rows x 501 columns]",
      "text/html": "<div>\n<style scoped>\n    .dataframe tbody tr th:only-of-type {\n        vertical-align: middle;\n    }\n\n    .dataframe tbody tr th {\n        vertical-align: top;\n    }\n\n    .dataframe thead th {\n        text-align: right;\n    }\n</style>\n<table border=\"1\" class=\"dataframe\">\n  <thead>\n    <tr style=\"text-align: right;\">\n      <th></th>\n      <th>0</th>\n      <th>1</th>\n      <th>2</th>\n      <th>3</th>\n      <th>4</th>\n      <th>5</th>\n      <th>6</th>\n      <th>7</th>\n      <th>8</th>\n      <th>9</th>\n      <th>...</th>\n      <th>491</th>\n      <th>492</th>\n      <th>493</th>\n      <th>494</th>\n      <th>495</th>\n      <th>496</th>\n      <th>497</th>\n      <th>498</th>\n      <th>499</th>\n      <th>500</th>\n    </tr>\n  </thead>\n  <tbody>\n    <tr>\n      <th>0</th>\n      <td>0</td>\n      <td>0</td>\n      <td>0</td>\n      <td>0</td>\n      <td>0</td>\n      <td>0</td>\n      <td>0</td>\n      <td>0</td>\n      <td>0</td>\n      <td>0</td>\n      <td>...</td>\n      <td>3</td>\n      <td>2</td>\n      <td>4</td>\n      <td>11</td>\n      <td>16</td>\n      <td>2</td>\n      <td>1</td>\n      <td>0</td>\n      <td>1</td>\n      <td>9</td>\n    </tr>\n    <tr>\n      <th>1</th>\n      <td>0</td>\n      <td>0</td>\n      <td>0</td>\n      <td>0</td>\n      <td>0</td>\n      <td>0</td>\n      <td>0</td>\n      <td>0</td>\n      <td>0</td>\n      <td>0</td>\n      <td>...</td>\n      <td>10</td>\n      <td>31</td>\n      <td>4</td>\n      <td>8</td>\n      <td>7</td>\n      <td>10</td>\n      <td>5</td>\n      <td>5</td>\n      <td>1</td>\n      <td>19</td>\n    </tr>\n    <tr>\n      <th>2</th>\n      <td>0</td>\n      <td>0</td>\n      <td>0</td>\n      <td>0</td>\n      <td>0</td>\n      <td>0</td>\n      <td>0</td>\n      <td>0</td>\n      <td>0</td>\n      <td>0</td>\n      <td>...</td>\n      <td>8</td>\n      <td>4</td>\n      <td>40</td>\n      <td>6</td>\n      <td>9</td>\n      <td>1</td>\n      <td>7</td>\n      <td>27</td>\n      <td>10</td>\n      <td>2</td>\n    </tr>\n    <tr>\n      <th>3</th>\n      <td>0</td>\n      <td>0</td>\n      <td>0</td>\n      <td>0</td>\n      <td>0</td>\n      <td>0</td>\n      <td>0</td>\n      <td>0</td>\n      <td>0</td>\n      <td>0</td>\n      <td>...</td>\n      <td>2</td>\n      <td>3</td>\n      <td>12</td>\n      <td>1</td>\n      <td>5</td>\n      <td>3</td>\n      <td>1</td>\n      <td>2</td>\n      <td>7</td>\n      <td>0</td>\n    </tr>\n    <tr>\n      <th>4</th>\n      <td>0</td>\n      <td>0</td>\n      <td>0</td>\n      <td>0</td>\n      <td>0</td>\n      <td>0</td>\n      <td>0</td>\n      <td>0</td>\n      <td>0</td>\n      <td>0</td>\n      <td>...</td>\n      <td>5</td>\n      <td>14</td>\n      <td>3</td>\n      <td>8</td>\n      <td>6</td>\n      <td>8</td>\n      <td>5</td>\n      <td>4</td>\n      <td>1</td>\n      <td>7</td>\n    </tr>\n  </tbody>\n</table>\n<p>5 rows × 501 columns</p>\n</div>"
     },
     "execution_count": 22,
     "metadata": {},
     "output_type": "execute_result"
    }
   ],
   "source": [
    "df.head()"
   ],
   "metadata": {
    "collapsed": false,
    "pycharm": {
     "name": "#%%\n"
    }
   }
  },
  {
   "cell_type": "code",
   "execution_count": null,
   "outputs": [],
   "source": [
    "lkid_list1 = [str(list(filter(lambda x: x != 0, lkid))).strip('[').strip(']').replace(' ', '').split(',')\n",
    "             for\n",
    "             lkid in lkid_list1]"
   ],
   "metadata": {
    "collapsed": false,
    "pycharm": {
     "name": "#%%\n"
    }
   }
  },
  {
   "cell_type": "code",
   "execution_count": 23,
   "outputs": [
    {
     "name": "stdout",
     "output_type": "stream",
     "text": [
      "3.2.1\n",
      "(8651005, 24)\n"
     ]
    },
    {
     "name": "stderr",
     "output_type": "stream",
     "text": [
      "d:\\softinstall\\anaconda3\\envs\\tensorflow13\\lib\\site-packages\\tensorflow\\python\\framework\\dtypes.py:526: FutureWarning: Passing (type, 1) or '1type' as a synonym of type is deprecated; in a future version of numpy, it will be understood as (type, (1,)) / '(1,)type'.\n",
      "  _np_qint8 = np.dtype([(\"qint8\", np.int8, 1)])\n",
      "d:\\softinstall\\anaconda3\\envs\\tensorflow13\\lib\\site-packages\\tensorflow\\python\\framework\\dtypes.py:527: FutureWarning: Passing (type, 1) or '1type' as a synonym of type is deprecated; in a future version of numpy, it will be understood as (type, (1,)) / '(1,)type'.\n",
      "  _np_quint8 = np.dtype([(\"quint8\", np.uint8, 1)])\n",
      "d:\\softinstall\\anaconda3\\envs\\tensorflow13\\lib\\site-packages\\tensorflow\\python\\framework\\dtypes.py:528: FutureWarning: Passing (type, 1) or '1type' as a synonym of type is deprecated; in a future version of numpy, it will be understood as (type, (1,)) / '(1,)type'.\n",
      "  _np_qint16 = np.dtype([(\"qint16\", np.int16, 1)])\n",
      "d:\\softinstall\\anaconda3\\envs\\tensorflow13\\lib\\site-packages\\tensorflow\\python\\framework\\dtypes.py:529: FutureWarning: Passing (type, 1) or '1type' as a synonym of type is deprecated; in a future version of numpy, it will be understood as (type, (1,)) / '(1,)type'.\n",
      "  _np_quint16 = np.dtype([(\"quint16\", np.uint16, 1)])\n",
      "d:\\softinstall\\anaconda3\\envs\\tensorflow13\\lib\\site-packages\\tensorflow\\python\\framework\\dtypes.py:530: FutureWarning: Passing (type, 1) or '1type' as a synonym of type is deprecated; in a future version of numpy, it will be understood as (type, (1,)) / '(1,)type'.\n",
      "  _np_qint32 = np.dtype([(\"qint32\", np.int32, 1)])\n",
      "d:\\softinstall\\anaconda3\\envs\\tensorflow13\\lib\\site-packages\\tensorflow\\python\\framework\\dtypes.py:535: FutureWarning: Passing (type, 1) or '1type' as a synonym of type is deprecated; in a future version of numpy, it will be understood as (type, (1,)) / '(1,)type'.\n",
      "  np_resource = np.dtype([(\"resource\", np.ubyte, 1)])\n",
      "100%|██████████| 90/90 [02:27<00:00,  1.64s/it]\n"
     ]
    }
   ],
   "source": [
    "\n",
    "import pandas as pd\n",
    "import numpy as np\n",
    "from sklearn.model_selection import GroupKFold, KFold\n",
    "from sklearn.metrics import log_loss\n",
    "from sklearn.preprocessing import LabelEncoder, MinMaxScaler, OneHotEncoder\n",
    "import lightgbm as lgb\n",
    "print(lgb.__version__)\n",
    "import  time\n",
    "import os\n",
    "import tensorflow as tf\n",
    "from tqdm import tqdm\n",
    "train_path1 = r\"../data/train_fea/20200801.csv\"\n",
    "train_path2 = r\"../data/train_fea/20200802.csv\"\n",
    "test_path = r\"../data/test_fea/20200901.csv\"\n",
    "submission_path = r\"../sample_submission.csv\"\n",
    "train_path = r\"../data/train_fea/\"\n",
    "filenames = os.listdir(train_path)\n",
    "filenames.sort(key=lambda x: int(x[6:8]))\n",
    "train_data = []\n",
    "#filenames = [\"20200801.csv\",\"20200802.csv\"]\n",
    "for file in tqdm(filenames):\n",
    "    try:\n",
    "        train_data1 = pd.read_csv(train_path+file)\n",
    "        train_data1['date'] = int(file[6:8])\n",
    "        if len(train_data)==0:\n",
    "            train_data = train_data1\n",
    "        else:\n",
    "            train_data = pd.concat([train_data, train_data1])\n",
    "    except:\n",
    "        pass\n",
    "\n",
    "print(train_data.shape)\n",
    "# submission = pd.read_csv(submission_path)\n",
    "# train_data1 = pd.read_csv(train_path1)\n",
    "# train_data1['date'] = 1\n",
    "# train_data2 = pd.read_csv(train_path2)\n",
    "# train_data2['date'] = 2\n",
    "\n",
    "#train_data = pd.concat([train_data1,train_data2])\n",
    "test_data =  pd.read_csv(test_path)\n",
    "test_data['date'] = 32\n",
    "data = pd.concat([train_data,test_data])\n",
    "'''\n",
    "所有特征\n",
    "order_id,  订单id\n",
    "ata,       实际行程时间（label）\n",
    "distance,  订单距离\n",
    "simple_eta,所有路段路口的平均时间和 （true_t+cross_t）\n",
    "driver_id, 司机id\n",
    "slice_id,  出发时刻\n",
    "weather,   天气\n",
    "hightemp,  最高气温\n",
    "lowtemp,   最低气温\n",
    "true_t,    所有link的平均时间和\n",
    "wight_t,   计算路段通堵情况加权的link时间和\n",
    "cross_t,   路口平均时间和\n",
    "status_t,  状态和\n",
    "link_num   link数量\n",
    "cross_num  cross数量\n",
    "'''\n",
    "#print(train_data['ata'].describe())\n",
    "# train_data = train_data[['order_id','ata','distance','simple_eta','driver_id','slice_id','weather','hightemp','lowtemp','true_t','wight_t','cross_t','status_t','link_num']]\n",
    "# test_data = test_data[['order_id','ata','distance','simple_eta','driver_id','slice_id','weather','hightemp','lowtemp','true_t','wight_t','cross_t','status_t','link_num']]\n",
    "#########################################单值扩展特征，包括均值和统计特征############################################\n",
    "data['hour'] = data['slice_id'].apply(lambda x: x*5//60) #转化为小时\n",
    "data['week_day'] = data['date'].apply(lambda x: x%7 + 1)\n",
    "data['Temp_diff'] = data['hightemp']-data['lowtemp'] #温差\n",
    "data['expect_velocity'] = data['distance']/data['simple_eta'] #预期速度\n",
    "data['true_t_mean'] = data['true_t']/data['link_num'] # link的平均时间\n",
    "data['wight_t_mean'] = data['wight_t']/data['link_num'] # 加权的link平均时间\n",
    "data['status_t_mean'] = data['status_t']/data['link_num'] # 四种状态的平均状态\n",
    "data['status_t_mean2'] = (data['state_num_1'] + 2*data['state_num_2'] + 3*data['state_num_3'])/3  #三种状态的平均状态(去除未知状态) (全为nan)\n",
    "data['link_lens'] = data['distance']/data['link_num'] # link的平均长度\n",
    "data['cross_t_mean'] = data['cross_t']/data['cross_num'] # 路口的平均通行时间\n",
    "#比率特征\n",
    "#state_ratio(全为nan)\n",
    "# data['status_0_ratio'] = data['state_num_0']/(data['state_num_0'] + data['state_num_1'] + data['state_num_2'] + data['state_num_3'])\n",
    "# data['status_1_ratio'] = data['state_num_1']/(data['state_num_0'] + data['state_num_1'] + data['state_num_2'] + data['state_num_3'])\n",
    "# data['status_2_ratio'] = data['state_num_2']/(data['state_num_0'] + data['state_num_1'] + data['state_num_2'] + data['state_num_3'])\n",
    "# data['status_3_ratio'] = data['state_num_3']/(data['state_num_0'] + data['state_num_1'] + data['state_num_2'] + data['state_num_3'])\n",
    "\n",
    "# 不同路段每种状态下的平均通行时间\n",
    "data['state_mean_time_0'] = data['state_sum_time_0']/data['state_num_0']\n",
    "data['state_mean_time_1'] = data['state_sum_time_1']/data['state_num_1']\n",
    "data['state_mean_time_2'] = data['state_sum_time_2']/data['state_num_2']\n",
    "data['state_mean_time_3'] = data['state_sum_time_3']/data['state_num_3']\n",
    "#time_ratio\n",
    "\n",
    "\n",
    "#时序特征\n",
    "# data[\"num_order_in_weather\"] = data.groupby([\"weather\"])[\"order_id\"].transform('count')\n",
    "# data[\"weather_nums\"] = data.groupby([\"weather\"])[\"date\"].transform('nunique')\n",
    "# data[\"order_nums_in_each_weather\"] = data[\"num_order_in_weather\"]/(data[\"weather_nums\"])\n",
    "\n",
    "#cross_link_ratio 全量直接提升5k?????\n",
    "data['cross_t_ratio'] = data['cross_t']/data['simple_eta'] #cross时间占比\n",
    "data['link_t_ratio'] = data['true_t']/data['simple_eta'] #link时间占比\n",
    "# data['cross_link_ratio'] = data['true_t']/data['cross_t'] #cross/link时间占比\n",
    "# data['cross_link_num_ratio'] = data['link_num']/data['cross_num'] #cross/link数量比\n",
    "data['cross_num_ratio'] = data['cross_num']/(data['cross_num']+data['link_num']) #cross占比\n",
    "data['link_num_ratio'] = data['link_num']/(data['cross_num']+data['link_num']) #link占比"
   ],
   "metadata": {
    "collapsed": false,
    "pycharm": {
     "name": "#%%\n"
    }
   }
  },
  {
   "cell_type": "code",
   "execution_count": 24,
   "outputs": [
    {
     "data": {
      "text/plain": "   order_id  ata   distance  simple_eta  driver_id  slice_id  weather  \\\n0   5966280  531  2923.0000         495      75457       153        5   \n1   6099942  590  3212.2780         559      19210       157        5   \n2   2792816  559  7868.4474         626      38822        36        5   \n3   5780075  677  4976.3791         446      51627        76        5   \n4   7808558  968  4985.9186         872      39965        52        5   \n\n   hightemp  lowtemp    true_t  ...   link_lens  cross_t_mean  \\\n0        28       26  368.0639  ...   44.969231         25.40   \n1        28       26  475.7070  ...   50.988540         20.75   \n2        28       26  596.1600  ...  126.910442         30.00   \n3        28       26  414.2489  ...   71.091130         32.00   \n4        28       26  754.9907  ...   66.478915         23.40   \n\n   state_mean_time_0  state_mean_time_1  state_mean_time_2  state_mean_time_3  \\\n0           1.000000           5.718750                NaN                NaN   \n1                NaN           7.000000               13.6                7.0   \n2           6.222222          10.169811                NaN                NaN   \n3                NaN           5.914286                NaN                NaN   \n4          14.000000           8.408163                8.5                NaN   \n\n   cross_t_ratio  link_t_ratio  cross_num_ratio  link_num_ratio  \n0       0.256566      0.743563         0.071429        0.928571  \n1       0.148479      0.850996         0.059701        0.940299  \n2       0.047923      0.952332         0.015873        0.984127  \n3       0.071749      0.928809         0.014085        0.985915  \n4       0.134174      0.865815         0.062500        0.937500  \n\n[5 rows x 42 columns]",
      "text/html": "<div>\n<style scoped>\n    .dataframe tbody tr th:only-of-type {\n        vertical-align: middle;\n    }\n\n    .dataframe tbody tr th {\n        vertical-align: top;\n    }\n\n    .dataframe thead th {\n        text-align: right;\n    }\n</style>\n<table border=\"1\" class=\"dataframe\">\n  <thead>\n    <tr style=\"text-align: right;\">\n      <th></th>\n      <th>order_id</th>\n      <th>ata</th>\n      <th>distance</th>\n      <th>simple_eta</th>\n      <th>driver_id</th>\n      <th>slice_id</th>\n      <th>weather</th>\n      <th>hightemp</th>\n      <th>lowtemp</th>\n      <th>true_t</th>\n      <th>...</th>\n      <th>link_lens</th>\n      <th>cross_t_mean</th>\n      <th>state_mean_time_0</th>\n      <th>state_mean_time_1</th>\n      <th>state_mean_time_2</th>\n      <th>state_mean_time_3</th>\n      <th>cross_t_ratio</th>\n      <th>link_t_ratio</th>\n      <th>cross_num_ratio</th>\n      <th>link_num_ratio</th>\n    </tr>\n  </thead>\n  <tbody>\n    <tr>\n      <th>0</th>\n      <td>5966280</td>\n      <td>531</td>\n      <td>2923.0000</td>\n      <td>495</td>\n      <td>75457</td>\n      <td>153</td>\n      <td>5</td>\n      <td>28</td>\n      <td>26</td>\n      <td>368.0639</td>\n      <td>...</td>\n      <td>44.969231</td>\n      <td>25.40</td>\n      <td>1.000000</td>\n      <td>5.718750</td>\n      <td>NaN</td>\n      <td>NaN</td>\n      <td>0.256566</td>\n      <td>0.743563</td>\n      <td>0.071429</td>\n      <td>0.928571</td>\n    </tr>\n    <tr>\n      <th>1</th>\n      <td>6099942</td>\n      <td>590</td>\n      <td>3212.2780</td>\n      <td>559</td>\n      <td>19210</td>\n      <td>157</td>\n      <td>5</td>\n      <td>28</td>\n      <td>26</td>\n      <td>475.7070</td>\n      <td>...</td>\n      <td>50.988540</td>\n      <td>20.75</td>\n      <td>NaN</td>\n      <td>7.000000</td>\n      <td>13.6</td>\n      <td>7.0</td>\n      <td>0.148479</td>\n      <td>0.850996</td>\n      <td>0.059701</td>\n      <td>0.940299</td>\n    </tr>\n    <tr>\n      <th>2</th>\n      <td>2792816</td>\n      <td>559</td>\n      <td>7868.4474</td>\n      <td>626</td>\n      <td>38822</td>\n      <td>36</td>\n      <td>5</td>\n      <td>28</td>\n      <td>26</td>\n      <td>596.1600</td>\n      <td>...</td>\n      <td>126.910442</td>\n      <td>30.00</td>\n      <td>6.222222</td>\n      <td>10.169811</td>\n      <td>NaN</td>\n      <td>NaN</td>\n      <td>0.047923</td>\n      <td>0.952332</td>\n      <td>0.015873</td>\n      <td>0.984127</td>\n    </tr>\n    <tr>\n      <th>3</th>\n      <td>5780075</td>\n      <td>677</td>\n      <td>4976.3791</td>\n      <td>446</td>\n      <td>51627</td>\n      <td>76</td>\n      <td>5</td>\n      <td>28</td>\n      <td>26</td>\n      <td>414.2489</td>\n      <td>...</td>\n      <td>71.091130</td>\n      <td>32.00</td>\n      <td>NaN</td>\n      <td>5.914286</td>\n      <td>NaN</td>\n      <td>NaN</td>\n      <td>0.071749</td>\n      <td>0.928809</td>\n      <td>0.014085</td>\n      <td>0.985915</td>\n    </tr>\n    <tr>\n      <th>4</th>\n      <td>7808558</td>\n      <td>968</td>\n      <td>4985.9186</td>\n      <td>872</td>\n      <td>39965</td>\n      <td>52</td>\n      <td>5</td>\n      <td>28</td>\n      <td>26</td>\n      <td>754.9907</td>\n      <td>...</td>\n      <td>66.478915</td>\n      <td>23.40</td>\n      <td>14.000000</td>\n      <td>8.408163</td>\n      <td>8.5</td>\n      <td>NaN</td>\n      <td>0.134174</td>\n      <td>0.865815</td>\n      <td>0.062500</td>\n      <td>0.937500</td>\n    </tr>\n  </tbody>\n</table>\n<p>5 rows × 42 columns</p>\n</div>"
     },
     "execution_count": 24,
     "metadata": {},
     "output_type": "execute_result"
    }
   ],
   "source": [
    "data.head()"
   ],
   "metadata": {
    "collapsed": false,
    "pycharm": {
     "name": "#%%\n"
    }
   }
  },
  {
   "cell_type": "code",
   "execution_count": 54,
   "outputs": [
    {
     "data": {
      "text/plain": "     order_id  state_mean_time_1  cross_num  link_num\n332   7015369           9.133333          5       100",
      "text/html": "<div>\n<style scoped>\n    .dataframe tbody tr th:only-of-type {\n        vertical-align: middle;\n    }\n\n    .dataframe tbody tr th {\n        vertical-align: top;\n    }\n\n    .dataframe thead th {\n        text-align: right;\n    }\n</style>\n<table border=\"1\" class=\"dataframe\">\n  <thead>\n    <tr style=\"text-align: right;\">\n      <th></th>\n      <th>order_id</th>\n      <th>state_mean_time_1</th>\n      <th>cross_num</th>\n      <th>link_num</th>\n    </tr>\n  </thead>\n  <tbody>\n    <tr>\n      <th>332</th>\n      <td>7015369</td>\n      <td>9.133333</td>\n      <td>5</td>\n      <td>100</td>\n    </tr>\n  </tbody>\n</table>\n</div>"
     },
     "execution_count": 54,
     "metadata": {},
     "output_type": "execute_result"
    }
   ],
   "source": [
    "test = data[(data['order_id']==7015369)]\n",
    "\n",
    "test[['order_id','state_mean_time_1','cross_num','link_num']]"
   ],
   "metadata": {
    "collapsed": false,
    "pycharm": {
     "name": "#%%\n"
    }
   }
  },
  {
   "cell_type": "code",
   "execution_count": 41,
   "outputs": [
    {
     "data": {
      "text/plain": "count    8.939081e+06\nmean     6.199443e+00\nstd      4.140301e+00\nmin      1.000000e+00\n25%      3.000000e+00\n50%      5.000000e+00\n75%      8.000000e+00\nmax      6.300000e+01\nName: cross_num, dtype: float64"
     },
     "execution_count": 41,
     "metadata": {},
     "output_type": "execute_result"
    }
   ],
   "source": [
    "data['cross_num'].describe()\n"
   ],
   "metadata": {
    "collapsed": false,
    "pycharm": {
     "name": "#%%\n"
    }
   }
  },
  {
   "cell_type": "code",
   "execution_count": 42,
   "outputs": [
    {
     "data": {
      "text/plain": "count    8.939081e+06\nmean     7.482760e+02\nstd      4.656402e+02\nmin      2.000000e+00\n25%      4.350000e+02\n50%      6.360000e+02\n75%      9.270000e+02\nmax      1.116100e+04\nName: simple_eta, dtype: float64"
     },
     "execution_count": 42,
     "metadata": {},
     "output_type": "execute_result"
    }
   ],
   "source": [
    "data['simple_eta'].describe()"
   ],
   "metadata": {
    "collapsed": false,
    "pycharm": {
     "name": "#%%\n"
    }
   }
  },
  {
   "cell_type": "code",
   "execution_count": null,
   "outputs": [],
   "source": [
    "\n"
   ],
   "metadata": {
    "collapsed": false,
    "pycharm": {
     "name": "#%%\n"
    }
   }
  }
 ],
 "metadata": {
  "kernelspec": {
   "display_name": "Python 3",
   "language": "python",
   "name": "python3"
  },
  "language_info": {
   "codemirror_mode": {
    "name": "ipython",
    "version": 2
   },
   "file_extension": ".py",
   "mimetype": "text/x-python",
   "name": "python",
   "nbconvert_exporter": "python",
   "pygments_lexer": "ipython2",
   "version": "2.7.6"
  }
 },
 "nbformat": 4,
 "nbformat_minor": 0
}