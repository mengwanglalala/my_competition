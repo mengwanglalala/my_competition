{
 "cells": [
  {
   "cell_type": "code",
   "execution_count": null,
   "metadata": {},
   "outputs": [],
   "source": [
    "import pandas as pd\n",
    "import numpy as np\n",
    "train_view = pd.read_csv('/data/train_view.csv',encoding='gbk' )\n",
    "testa_view = pd.read_csv('/data/testa_view.csv',encoding='gbk' )"
   ]
  },
  {
   "cell_type": "code",
   "execution_count": null,
   "metadata": {},
   "outputs": [],
   "source": [
    "train_view['is_train'] = 1\n",
    "testa_view['is_train'] = 0\n",
    "train_view = pd.concat([train_view,testa_view],axis=0)\n",
    "print(train_view.shape)\n",
    "train_view.head()"
   ]
  },
  {
   "cell_type": "code",
   "execution_count": null,
   "metadata": {},
   "outputs": [],
   "source": [
    "train_view = train_view.sort_values(['cust_wid','acs_tm'])\n",
    "train_view.head()"
   ]
  },
  {
   "cell_type": "code",
   "execution_count": null,
   "metadata": {},
   "outputs": [],
   "source": [
    "train_view['date'] = train_view['acs_tm'].str.split().str.get(0)\n",
    "train_view.head()"
   ]
  },
  {
   "cell_type": "code",
   "execution_count": null,
   "metadata": {},
   "outputs": [],
   "source": [
    "import datetime as dt\n",
    "train_view['acs_tm'] = train_view['date'].apply(lambda x: dt.datetime.strptime(x,'%Y-%m-%d') if type(x)==str else pd.NaT)"
   ]
  },
  {
   "cell_type": "code",
   "execution_count": null,
   "metadata": {},
   "outputs": [],
   "source": [
    "import pandas as pd\n",
    "\n",
    "# 读取数据\n",
    "df = train_view\n",
    "df['page_id'] = df['page_id'].astype(str)\n",
    "# 计算每个用户操作的日期列表，并按照日期顺序排序\n",
    "date_series = df['acs_tm'].apply(lambda x: x.date())\n",
    "operate_dates = df.groupby('cust_wid')['acs_tm'].apply(lambda x: sorted(set(x.apply(lambda y: y.date()))))\n",
    "\n",
    "# 计算每个用户操作的page_id序列\n",
    "operate_pages = df.groupby('cust_wid')['page_id'].apply(list)\n",
    "\n",
    "# 计算每个用户登陆天数\n",
    "num_login_days = operate_dates.apply(len)\n",
    "\n",
    "# 计算每个用户最长连续操作天数\n",
    "max_consecutive_days = {}\n",
    "for cust_wid, dates in operate_dates.iteritems():\n",
    "    max_consecutive_days[cust_wid] = 1\n",
    "    consecutive_days = 1\n",
    "    for i in range(1, len(dates)):\n",
    "        if (dates[i] - dates[i-1]).days == 1:\n",
    "            consecutive_days += 1\n",
    "            max_consecutive_days[cust_wid] = max(max_consecutive_days[cust_wid], consecutive_days)\n",
    "        else:\n",
    "            consecutive_days = 1\n",
    "\n",
    "# 输出结果\n",
    "result = pd.DataFrame({'num_login_days': num_login_days,\n",
    "                       'max_consecutive_days': pd.Series(max_consecutive_days),\n",
    "                       'operate_pages': operate_pages})\n",
    "print(result)"
   ]
  },
  {
   "cell_type": "code",
   "execution_count": null,
   "metadata": {},
   "outputs": [],
   "source": [
    "result.head()"
   ]
  },
  {
   "cell_type": "code",
   "execution_count": null,
   "metadata": {},
   "outputs": [],
   "source": [
    "result['totoal_operate'] = result['operate_pages'].apply(lambda x: len(x))\n",
    "result['operate_nums'] = result['operate_pages'].apply(lambda x: len(set(x)))\n",
    "result.head()"
   ]
  },
  {
   "cell_type": "code",
   "execution_count": null,
   "metadata": {},
   "outputs": [],
   "source": [
    "from collections import Counter\n",
    "# 统计各个操作的出现次数\n",
    "counter = Counter()\n",
    "for op_pages in result['operate_pages']:\n",
    "    counter.update(op_pages)\n",
    "\n",
    "# 保存结果到DataFrame中\n",
    "operate_pages_count = pd.DataFrame({'page_id': list(counter.keys()), 'count': list(counter.values())})\n",
    "\n",
    "# 输出结果\n",
    "print(operate_pages_count)\n",
    "len(counter)"
   ]
  },
  {
   "cell_type": "code",
   "execution_count": null,
   "metadata": {},
   "outputs": [],
   "source": [
    "result = result.reset_index().rename(columns={'index': 'cust_wid'})\n",
    "result.head()"
   ]
  },
  {
   "cell_type": "code",
   "execution_count": null,
   "metadata": {},
   "outputs": [],
   "source": [
    "from sklearn.feature_extraction.text import TfidfVectorizer\n",
    "\n",
    "df = train_view\n",
    "df['page_id'] =df['page_id'].astype(str)\n",
    "# 将操作序列转化为字符串\n",
    "df = df.groupby('cust_wid')['page_id'].apply(lambda x: ' '.join(x)).to_frame().reset_index()\n",
    "\n",
    "# 获取TfidfVectorizer的embedding\n",
    "vectorizer = TfidfVectorizer(max_features=20)\n",
    "embedding = vectorizer.fit_transform(df['page_id']).toarray()\n",
    "\n",
    "# 将embedding保存为DataFrame格式\n",
    "embedding_df = pd.DataFrame(embedding, columns=[f\"embedding_{i+1}\" for i in range(20)])"
   ]
  },
  {
   "cell_type": "code",
   "execution_count": null,
   "metadata": {},
   "outputs": [],
   "source": [
    "# 将cust_wid作为索引并合并embedding_df和result\n",
    "embedding_df.index = result['cust_wid']\n",
    "embedding_df = embedding_df.reset_index()\n",
    "embedding_df.to_csv('./all_view_emb.csv',index = 0)"
   ]
  },
  {
   "cell_type": "code",
   "execution_count": null,
   "metadata": {},
   "outputs": [],
   "source": [
    "embedding_df.head()"
   ]
  },
  {
   "cell_type": "code",
   "execution_count": null,
   "metadata": {},
   "outputs": [],
   "source": [
    "embedding_df.to_csv('./all_view_emb.csv',index = 0)"
   ]
  },
  {
   "cell_type": "code",
   "execution_count": null,
   "metadata": {},
   "outputs": [],
   "source": [
    "from gensim.models import Word2Vec\n",
    "df = result\n",
    "# 将page_id序列转化为一个句子，每个page_id作为一个单词\n",
    "sentences = [list(df['operate_pages'].apply(lambda x: ' '.join([str(x_data) for x_data in x])))]\n",
    "len(sentences[0])"
   ]
  },
  {
   "cell_type": "code",
   "execution_count": null,
   "metadata": {},
   "outputs": [],
   "source": [
    "sentences[0][0]"
   ]
  },
  {
   "cell_type": "code",
   "execution_count": null,
   "metadata": {},
   "outputs": [],
   "source": [
    "# 训练word2vec模型\n",
    "model = Word2Vec(sentences=sentences[0], vector_size=20, window=5, min_count=1, workers=4)"
   ]
  },
  {
   "cell_type": "code",
   "execution_count": null,
   "metadata": {},
   "outputs": [],
   "source": [
    "# 获取所有用户的embedding表示\n",
    "from tqdm import tqdm\n",
    "user_embeddings = {}\n",
    "index = 0\n",
    "for cust_wid in tqdm(list(result['cust_wid'])):\n",
    "    #print(cust_wid)\n",
    "    user_sentences = sentences[0][index]\n",
    "    #print(user_sentences)\n",
    "    user_embedding = np.zeros((20,))\n",
    "    for word in user_sentences:\n",
    "        if word in model.wv.index_to_key:\n",
    "            user_embedding += model.wv[word]\n",
    "            \n",
    "    user_embedding /= len(user_sentences)\n",
    "    user_embeddings[cust_wid] = user_embedding\n",
    "    index += 1"
   ]
  },
  {
   "cell_type": "code",
   "execution_count": null,
   "metadata": {},
   "outputs": [],
   "source": [
    "# 将结果保存为DataFrame格式\n",
    "embedding_df = pd.DataFrame.from_dict(user_embeddings, orient='index', columns=[f'w2v_view_embedding_{i+1}' for i in range(20)])\n",
    "embedding_df.index.name = 'cust_wid'"
   ]
  },
  {
   "cell_type": "code",
   "execution_count": null,
   "metadata": {},
   "outputs": [],
   "source": [
    "embedding_df.head()"
   ]
  },
  {
   "cell_type": "code",
   "execution_count": null,
   "metadata": {},
   "outputs": [],
   "source": [
    "embedding_df.reset_index().to_csv('all_view_w2v_emb.csv',index = 0)"
   ]
  }
 ],
 "metadata": {
  "language_info": {
   "name": "python"
  },
  "orig_nbformat": 4
 },
 "nbformat": 4,
 "nbformat_minor": 2
}
