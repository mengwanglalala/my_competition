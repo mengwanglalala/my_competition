{
 "cells": [
  {
   "cell_type": "code",
   "execution_count": null,
   "metadata": {},
   "outputs": [],
   "source": [
    "import pandas as pd\n",
    "import numpy as np\n",
    "from tqdm.auto import tqdm\n",
    "import glob\n",
    "import gc\n",
    "import warnings\n",
    "import pickle\n",
    "from sklearn.preprocessing import LabelEncoder\n",
    "\n",
    "\n",
    "warnings.simplefilter('ignore')\n",
    "\n",
    "tags_map = {\n",
    "    '拍摄': 0,\n",
    "    '演绎': 1,\n",
    "    '新闻': 2,\n",
    "    '生活': 3,\n",
    "    '美食': 4,\n",
    "    '文化教育': 5,\n",
    "    '影视': 6,\n",
    "    '动植物': 7,\n",
    "    '时尚': 8,\n",
    "    '汽车': 9,\n",
    "    '亲子': 10,\n",
    "    '农村': 11,\n",
    "    '军政法警': 12,\n",
    "    '舞蹈': 13,\n",
    "    '创意': 14,\n",
    "    '旅行': 15,\n",
    "    '运动': 16,\n",
    "    '金融': 17,\n",
    "    '情感': 18,\n",
    "    '二次元': 19,\n",
    "    '音乐': 20,\n",
    "    '医疗': 21,\n",
    "    '游戏': 22,\n",
    "    '科技': 23,\n",
    "    '辅助标签': 24\n",
    "}\n",
    "def tag2int(s):\n",
    "    if s in tags_map:\n",
    "        return tags_map[s]\n",
    "    else:\n",
    "        return 25\n",
    "def string2int(s):\n",
    "    ret = 0\n",
    "    for i in range(len(s)):\n",
    "        ret += ord(s[i]) * 36**i\n",
    "    return ret"
   ]
  },
  {
   "cell_type": "code",
   "execution_count": null,
   "metadata": {},
   "outputs": [],
   "source": [
    "#分块读数据\n",
    "chunksize = 20000000\n",
    "df_train = pd.DataFrame()\n",
    "\n",
    "data = pd.read_csv('../init_data/toUser/train/train.csv',\n",
    "                     chunksize=chunksize,\n",
    "                     dtype={'is_like': bool,\n",
    "                            'is_favourite': bool,\n",
    "                            'is_share': bool,\n",
    "                            'is_finish': bool})#'../../../output/toUserA/train.csv'\n",
    "\n",
    "for i, chunk in tqdm(enumerate(data)):\n",
    "    chunk['userid'] = chunk['userid'].apply(lambda s: string2int(s)).astype(np.int32)\n",
    "    chunk['videoid'] = chunk['videoid'].apply(lambda s: string2int(s)).astype(np.int64)\n",
    "    chunk['tag'] = chunk['tag'].apply(lambda s: tag2int(s)).astype(np.int8)\n",
    "    chunk.to_pickle(f'../temp_data/train_chunk{i}.pickle')#f'../temp_data/train_chunk{i}.pickle'\n",
    "df_train = pd.DataFrame()"
   ]
  },
  {
   "cell_type": "code",
   "execution_count": null,
   "metadata": {},
   "outputs": [],
   "source": [
    "test = pd.read_csv('../init_data/toUser/test/test.csv', \n",
    "                   dtype={'is_like': bool,\n",
    "                          'is_favourite': bool,\n",
    "                          'is_share': bool,\n",
    "                          'is_finish': bool})#\n",
    "test['userid'] = test['userid'].apply(lambda s: string2int(s)).astype(np.int32)\n",
    "test['videoid'] = test['videoid'].apply(lambda s: string2int(s)).astype(np.int64)\n",
    "test['tag'] = test['tag'].apply(lambda s: tag2int(s)).astype(np.int8)"
   ]
  },
  {
   "cell_type": "code",
   "execution_count": null,
   "metadata": {},
   "outputs": [],
   "source": [
    "train_chunks = glob.glob('../temp_data/train_chunk*.pickle')#'../temp_data/train_chunk*.pickle'\n",
    "train = pd.DataFrame()\n",
    "\n",
    "for f in tqdm(train_chunks):\n",
    "    chunk = pd.read_pickle(f)\n",
    "    chunk = chunk[chunk['videoid'].isin(test['videoid'].unique())]\n",
    "    train = pd.concat([train, chunk])\n",
    "    \n",
    "train"
   ]
  },
  {
   "cell_type": "code",
   "execution_count": null,
   "metadata": {},
   "outputs": [],
   "source": [
    "train.to_pickle('../temp_data/train.pickle')#'../temp_data/train.pickle'\n",
    "test.to_pickle('../temp_data/test.pickle')#'../temp_data/test.pickle"
   ]
  },
  {
   "cell_type": "code",
   "execution_count": null,
   "metadata": {},
   "outputs": [],
   "source": [
    "train = pd.read_pickle('../temp_data/train.pickle')#'../temp_data/train.pickle'\n",
    "test = pd.read_pickle('../temp_data/test.pickle')#'../temp_data/test.pickle'"
   ]
  },
  {
   "cell_type": "code",
   "execution_count": null,
   "metadata": {},
   "outputs": [],
   "source": [
    "for col in ['tag', 'is_like', 'is_favourite', 'is_share', 'is_finish']:\n",
    "    del train[col]\n",
    "    gc.collect()\n",
    "    \n",
    "for col in ['tag']:\n",
    "    del test[col]\n",
    "    gc.collect()\n",
    "    \n",
    "lbe = LabelEncoder()\n",
    "train['userid'] = lbe.fit_transform(train['userid'])\n",
    "test['userid'] = lbe.transform(test['userid'])\n",
    "train['userid'] = train['userid'].astype(np.int16)\n",
    "test['userid'] = test['userid'].astype(np.int16)\n",
    "\n",
    "with open('../temp_data/userid_le.pickle', 'wb') as fh:\n",
    "    pickle.dump(lbe, fh)\n",
    "\n",
    "lbe = LabelEncoder()\n",
    "train['videoid'] = lbe.fit_transform(train['videoid'])\n",
    "test['videoid'] = lbe.transform(test['videoid'])\n",
    "train['videoid'] = train['videoid'].astype(np.int32)\n",
    "test['videoid'] = test['videoid'].astype(np.int32)\n",
    "with open('../temp_data/videoid_le.pickle', 'wb') as fh:\n",
    "    pickle.dump(lbe, fh)"
   ]
  },
  {
   "cell_type": "code",
   "execution_count": null,
   "metadata": {},
   "outputs": [],
   "source": [
    "tmp = pd.read_pickle('../temp_data/train.pickle')\n",
    "del tmp['userid']\n",
    "del tmp['videoid']\n",
    "train = pd.concat([train, tmp], axis=1)\n",
    "\n",
    "tmp = pd.read_pickle('../temp_data/test.pickle')\n",
    "del tmp['userid']\n",
    "del tmp['videoid']\n",
    "del tmp['ID']\n",
    "test = pd.concat([test, tmp], axis=1)\n",
    "gc.collect()\n",
    "\n",
    "train.to_pickle('../temp_data/train_all_le.pickle')#'../temp_data/train_all_le.pickle'\n",
    "test.to_pickle('../temp_data/test_all_le.pickle')#'../temp_data/test_all_le.pickle'"
   ]
  },
  {
   "cell_type": "code",
   "execution_count": null,
   "metadata": {},
   "outputs": [],
   "source": []
  },
  {
   "cell_type": "code",
   "execution_count": null,
   "metadata": {},
   "outputs": [],
   "source": []
  },
  {
   "cell_type": "code",
   "execution_count": null,
   "metadata": {},
   "outputs": [],
   "source": []
  }
 ],
 "metadata": {
  "language_info": {
   "name": "python"
  },
  "orig_nbformat": 4
 },
 "nbformat": 4,
 "nbformat_minor": 2
}
