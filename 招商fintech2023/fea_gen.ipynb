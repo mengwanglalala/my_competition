{
 "cells": [
  {
   "cell_type": "code",
   "execution_count": null,
   "metadata": {},
   "outputs": [],
   "source": [
    "import pandas as pd\n",
    "import numpy as np\n",
    "train_base = pd.read_csv('/data/train_base.csv')\n",
    "train_trx = pd.read_csv('/data/train_trx.csv')\n",
    "train_view = pd.read_csv('/data/train_view.csv',encoding='gbk' )\n",
    "print(train_base.shape, train_trx.shape, train_view.shape)"
   ]
  },
  {
   "cell_type": "code",
   "execution_count": null,
   "metadata": {},
   "outputs": [],
   "source": [
    "train_view.head()"
   ]
  },
  {
   "cell_type": "code",
   "execution_count": null,
   "metadata": {},
   "outputs": [],
   "source": [
    "# 统计每个客户的交易次数和交易金额\n",
    "df_count = train_trx.groupby(\"cust_wid\").agg({\"trx_amt\": [\"count\", \"sum\", \"min\", \"max\", \"mean\"]})\n",
    "df_count.columns = [\"trx_count\", \"trx_sum\", \"trx_min\", \"trx_max\", \"trx_mean\"]\n",
    "df_count =  df_count.reset_index()\n",
    "df_count.head()"
   ]
  },
  {
   "cell_type": "code",
   "execution_count": null,
   "metadata": {},
   "outputs": [],
   "source": [
    "df_unique = train_trx.groupby(\"cust_wid\").nunique().head()\n",
    "df_unique.columns = [\"trx_cd_unique\", \"trx_amt_unique\", \"trx_tm_unique\"]\n",
    "df_unique =  df_unique.reset_index()\n",
    "df_unique.head()"
   ]
  },
  {
   "cell_type": "code",
   "execution_count": null,
   "metadata": {},
   "outputs": [],
   "source": [
    "import datetime as dt\n",
    "train_trx['trx_tm'] = train_trx['trx_tm'].apply(lambda x: dt.datetime.strptime(x,'%Y-%m-%d %H:%M:%S') if type(x)==str else pd.NaT)\n",
    "train_trx['trx_tm']"
   ]
  },
  {
   "cell_type": "code",
   "execution_count": null,
   "metadata": {},
   "outputs": [],
   "source": [
    "train_trx[\"year\"] = train_trx[\"trx_tm\"].apply(lambda x: x.year)\n",
    "train_trx"
   ]
  },
  {
   "cell_type": "code",
   "execution_count": null,
   "metadata": {},
   "outputs": [],
   "source": [
    "# train_trx[\"trx_tm\"] = pd.to_datetime(train_trx[\"trx_tm\"])\n",
    "\n",
    "train_trx[\"year\"] = train_trx[\"trx_tm\"].apply(lambda x: x.year)\n",
    "train_trx[\"month\"] = train_trx[\"trx_tm\"].apply(lambda x: x.month)\n",
    "train_trx[\"day\"] = train_trx[\"trx_tm\"].apply(lambda x: x.day)\n",
    "train_trx[\"hour\"] = train_trx[\"trx_tm\"].apply(lambda x: x.hour)\n",
    "\n",
    "train_trx.head()"
   ]
  },
  {
   "cell_type": "code",
   "execution_count": null,
   "metadata": {},
   "outputs": [],
   "source": [
    "active_time = train_trx.groupby(\"cust_wid\")[\"trx_tm\"].agg([\"min\", \"max\"])\n",
    "active_time.columns = [\"first_trx_time\", \"last_trx_time\"]"
   ]
  },
  {
   "cell_type": "code",
   "execution_count": null,
   "metadata": {},
   "outputs": [],
   "source": [
    "active_time[\"active_time\"] = active_time[\"last_trx_time\"] - active_time[\"first_trx_time\"]\n",
    "active_time[\"active_time_days\"] = active_time[\"active_time\"].astype(\"timedelta64[D]\")\n",
    "active_time"
   ]
  },
  {
   "cell_type": "code",
   "execution_count": null,
   "metadata": {},
   "outputs": [],
   "source": [
    "train_trx.sort_values(by=['cust_wid', 'trx_tm'], inplace=True)\n",
    "\n",
    "# 计算每个用户登陆的日期列表，并按照日期顺序排序\n",
    "date_series = train_trx['trx_tm'].apply(lambda x: x.date())\n",
    "login_dates = train_trx.groupby('cust_wid')['trx_tm'].apply(lambda x: sorted(set(x.apply(lambda y: y.date()))))\n",
    "\n",
    "# 计算每个用户最长连续登陆天数\n",
    "max_consecutive_days = {}\n",
    "for cust_wid, dates in login_dates.iteritems():\n",
    "    max_consecutive_days[cust_wid] = 1\n",
    "    consecutive_days = 1\n",
    "    for i in range(1, len(dates)):\n",
    "        if (dates[i] - dates[i-1]).days == 1:\n",
    "            consecutive_days += 1\n",
    "            max_consecutive_days[cust_wid] = max(max_consecutive_days[cust_wid], consecutive_days)\n",
    "        else:\n",
    "            consecutive_days = 1\n",
    "\n",
    "max_consec = pd.DataFrame(list(max_consecutive_days.items()), columns=['cust_wid', 'max_consec'])\n",
    "max_consec"
   ]
  },
  {
   "cell_type": "code",
   "execution_count": null,
   "metadata": {},
   "outputs": [],
   "source": [
    "print(df_count.shape, df_unique.shape, active_time.shape, max_consec.shape)\n",
    "final_out = pd.merge(df_count,df_unique, on = ['cust_wid'])\n",
    "print(final_out.shape)\n",
    "final_out = pd.merge(final_out,active_time.reset_index()[['cust_wid','active_time_days']], on = ['cust_wid'])\n",
    "print(final_out.shape)\n",
    "final_out = pd.merge(final_out,max_consec, on = ['cust_wid'])\n",
    "print(final_out.shape)\n",
    "final_out.head()"
   ]
  },
  {
   "cell_type": "code",
   "execution_count": null,
   "metadata": {},
   "outputs": [],
   "source": [
    "print(final_out.shape)\n",
    "final_out.to_csv('./fea1.csv',index=0)"
   ]
  }
 ],
 "metadata": {
  "language_info": {
   "name": "python"
  },
  "orig_nbformat": 4
 },
 "nbformat": 4,
 "nbformat_minor": 2
}
