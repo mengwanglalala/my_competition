{
 "cells": [
  {
   "cell_type": "code",
   "execution_count": null,
   "metadata": {},
   "outputs": [],
   "source": [
    "import pandas as pd\n",
    "import numpy as np\n",
    "test_base = pd.read_csv('/data/testa_base.csv')\n",
    "test_trx = pd.read_csv('/data/testa_trx.csv')\n",
    "print(test_base.shape, test_trx.shape)"
   ]
  },
  {
   "cell_type": "code",
   "execution_count": null,
   "metadata": {},
   "outputs": [],
   "source": [
    "test_trx.head()"
   ]
  },
  {
   "cell_type": "code",
   "execution_count": null,
   "metadata": {},
   "outputs": [],
   "source": [
    "# 统计每个客户的交易次数和交易金额\n",
    "df_count = test_trx.groupby(\"cust_wid\").agg({\"trx_amt\": [\"count\", \"sum\", \"min\", \"max\", \"mean\"]})\n",
    "df_count.columns = [\"trx_count\", \"trx_sum\", \"trx_min\", \"trx_max\", \"trx_mean\"]\n",
    "df_count =  df_count.reset_index()\n",
    "df_count.head()"
   ]
  },
  {
   "cell_type": "code",
   "execution_count": null,
   "metadata": {},
   "outputs": [],
   "source": [
    "df_unique = test_trx.groupby(\"cust_wid\").nunique()\n",
    "df_unique.columns = [\"trx_cd_unique\", \"trx_amt_unique\", \"trx_tm_unique\"]\n",
    "df_unique =  df_unique.reset_index()\n",
    "df_unique.head()"
   ]
  },
  {
   "cell_type": "code",
   "execution_count": null,
   "metadata": {},
   "outputs": [],
   "source": [
    "import datetime as dt\n",
    "test_trx['trx_tm'] = test_trx['trx_tm'].apply(lambda x: dt.datetime.strptime(x,'%Y-%m-%d %H:%M:%S') if type(x)==str else pd.NaT)\n",
    "test_trx['trx_tm']"
   ]
  },
  {
   "cell_type": "code",
   "execution_count": null,
   "metadata": {},
   "outputs": [],
   "source": [
    "test_trx[\"year\"] = test_trx[\"trx_tm\"].apply(lambda x: x.year)\n",
    "test_trx[\"month\"] = test_trx[\"trx_tm\"].apply(lambda x: x.month)\n",
    "test_trx[\"day\"] = test_trx[\"trx_tm\"].apply(lambda x: x.day)\n",
    "test_trx[\"hour\"] = test_trx[\"trx_tm\"].apply(lambda x: x.hour)\n",
    "\n",
    "test_trx.head()"
   ]
  },
  {
   "cell_type": "code",
   "execution_count": null,
   "metadata": {},
   "outputs": [],
   "source": [
    "active_time = test_trx.groupby(\"cust_wid\")[\"trx_tm\"].agg([\"min\", \"max\"])\n",
    "active_time.columns = [\"first_trx_time\", \"last_trx_time\"]"
   ]
  },
  {
   "cell_type": "code",
   "execution_count": null,
   "metadata": {},
   "outputs": [],
   "source": [
    "active_time[\"active_time\"] = active_time[\"last_trx_time\"] - active_time[\"first_trx_time\"]\n",
    "active_time[\"active_time_days\"] = active_time[\"active_time\"].astype(\"timedelta64[D]\")\n",
    "active_time"
   ]
  },
  {
   "cell_type": "code",
   "execution_count": null,
   "metadata": {},
   "outputs": [],
   "source": [
    "test_trx.sort_values(by=['cust_wid', 'trx_tm'], inplace=True)\n",
    "\n",
    "# 计算每个用户登陆的日期列表，并按照日期顺序排序\n",
    "date_series = test_trx['trx_tm'].apply(lambda x: x.date())\n",
    "login_dates = test_trx.groupby('cust_wid')['trx_tm'].apply(lambda x: sorted(set(x.apply(lambda y: y.date()))))\n",
    "\n",
    "# 计算每个用户最长连续登陆天数\n",
    "max_consecutive_days = {}\n",
    "for cust_wid, dates in login_dates.iteritems():\n",
    "    max_consecutive_days[cust_wid] = 1\n",
    "    consecutive_days = 1\n",
    "    for i in range(1, len(dates)):\n",
    "        if (dates[i] - dates[i-1]).days == 1:\n",
    "            consecutive_days += 1\n",
    "            max_consecutive_days[cust_wid] = max(max_consecutive_days[cust_wid], consecutive_days)\n",
    "        else:\n",
    "            consecutive_days = 1\n",
    "\n",
    "max_consec = pd.DataFrame(list(max_consecutive_days.items()), columns=['cust_wid', 'max_consec'])\n"
   ]
  },
  {
   "cell_type": "code",
   "execution_count": null,
   "metadata": {},
   "outputs": [],
   "source": [
    "print(df_count.shape, df_unique.shape, active_time.shape, max_consec.shape)\n",
    "final_out = pd.merge(df_count,df_unique, on = ['cust_wid'])\n",
    "print(final_out.shape)\n",
    "final_out = pd.merge(final_out,active_time.reset_index()[['cust_wid','active_time_days']], on = ['cust_wid'])\n",
    "print(final_out.shape)\n",
    "final_out = pd.merge(final_out,max_consec, on = ['cust_wid'])\n",
    "print(final_out.shape)\n",
    "final_out.head()"
   ]
  },
  {
   "cell_type": "code",
   "execution_count": null,
   "metadata": {},
   "outputs": [],
   "source": [
    "print(final_out.shape)\n",
    "final_out.to_csv('./test_fea1.csv',index=0)"
   ]
  },
  {
   "cell_type": "code",
   "execution_count": null,
   "metadata": {},
   "outputs": [],
   "source": [
    "(0.7692307692307692*50000)/(5-4*0.7692307692307692)"
   ]
  }
 ],
 "metadata": {
  "language_info": {
   "name": "python"
  },
  "orig_nbformat": 4
 },
 "nbformat": 4,
 "nbformat_minor": 2
}
