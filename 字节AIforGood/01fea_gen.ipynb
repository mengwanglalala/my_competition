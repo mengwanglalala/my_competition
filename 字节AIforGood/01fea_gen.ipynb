{
 "cells": [
  {
   "cell_type": "code",
   "execution_count": null,
   "metadata": {},
   "outputs": [],
   "source": [
    "import warnings\n",
    "warnings.simplefilter('ignore')\n",
    "\n",
    "import gc\n",
    "\n",
    "import numpy as np\n",
    "import pandas as pd\n",
    "from tqdm.auto import tqdm\n",
    "\n",
    "from sklearn.preprocessing import LabelEncoder\n",
    "from sklearn.model_selection import KFold\n",
    "from sklearn.metrics import log_loss"
   ]
  },
  {
   "cell_type": "code",
   "execution_count": null,
   "metadata": {},
   "outputs": [],
   "source": [
    "df_train = pd.read_pickle('../temp_data/train_all_le.pickle')    # 最好不要用包含 valid 的数据来做特征\n",
    "df_test = pd.read_pickle('../temp_data/test_all_le.pickle')\n",
    "\n",
    "\n",
    "display(df_train)\n",
    "display(df_test)\n",
    "\n",
    "print(df_train.shape, df_test.shape)"
   ]
  },
  {
   "cell_type": "code",
   "execution_count": null,
   "metadata": {},
   "outputs": [],
   "source": [
    "# 统计各用户，id，tag的总数量\n",
    "for col in tqdm(['userid', 'videoid', 'tag']):\n",
    "    tmp = df_train[col].value_counts().reset_index(name=f'{col}_cnt')\n",
    "    tmp.columns = [col, f'{col}_cnt']\n",
    "    tmp.to_pickle(f'../temp_data/{col}_cnt.pickle')"
   ]
  },
  {
   "cell_type": "code",
   "execution_count": null,
   "metadata": {},
   "outputs": [],
   "source": [
    "# 用户粒度统计四个指标的数量\n",
    "for col in tqdm(['is_like', 'is_favourite', 'is_share', 'is_finish']):\n",
    "    tmp = df_train.groupby('userid')[col].sum().to_frame().reset_index(level=[0])\n",
    "    tmp.columns = ['userid', f'userid_{col}_sum']\n",
    "    tmp.to_pickle(f'../temp_data/userid_{col}_sum.pickle')"
   ]
  },
  {
   "cell_type": "code",
   "execution_count": null,
   "metadata": {},
   "outputs": [],
   "source": [
    "# video粒度统计四个指标的数量\n",
    "for col in tqdm(['is_like', 'is_favourite', 'is_share', 'is_finish']):\n",
    "    tmp = df_train.groupby('videoid')[col].sum().to_frame().reset_index(level=[0])\n",
    "    tmp.columns = ['videoid', f'videoid_{col}_sum']\n",
    "    tmp.to_pickle(f'../temp_data/videoid_{col}_sum.pickle')"
   ]
  },
  {
   "cell_type": "code",
   "execution_count": null,
   "metadata": {},
   "outputs": [],
   "source": [
    "# tag粒度统计四个指标的数量\n",
    "for col in tqdm(['is_like', 'is_favourite', 'is_share', 'is_finish']):\n",
    "    tmp = df_train.groupby('tag')[col].sum().to_frame().reset_index(level=[0])\n",
    "    tmp.columns = ['tag', f'tag_{col}_sum']\n",
    "    tmp.to_pickle(f'../temp_data/tag_{col}_sum.pickle')"
   ]
  },
  {
   "cell_type": "code",
   "execution_count": null,
   "metadata": {},
   "outputs": [],
   "source": [
    "# user粒度统计四个指标的std\n",
    "for col in tqdm(['is_like', 'is_favourite', 'is_share', 'is_finish']):\n",
    "    tmp = df_train.groupby('userid')[col].std().to_frame().reset_index(level=[0])\n",
    "    tmp.columns = ['userid', f'userid_{col}_std']\n",
    "    tmp.to_pickle(f'../temp_data/userid_{col}_std.pickle')\n",
    "# video粒度统计四个指标的std\n",
    "for col in tqdm(['is_like', 'is_favourite', 'is_share', 'is_finish']):\n",
    "    tmp = df_train.groupby('videoid')[col].std().to_frame().reset_index(level=[0])\n",
    "    tmp.columns = ['videoid', f'videoid_{col}_std']\n",
    "    tmp.to_pickle(f'../temp_data/videoid_{col}_std.pickle')\n",
    "# tag粒度统计四个指标的std\n",
    "for col in tqdm(['is_like', 'is_favourite', 'is_share', 'is_finish']):\n",
    "    tmp = df_train.groupby('tag')[col].std().to_frame().reset_index(level=[0])\n",
    "    tmp.columns = ['tag', f'tag_{col}_std']\n",
    "    tmp.to_pickle(f'../temp_data/tag_{col}_std.pickle')"
   ]
  },
  {
   "cell_type": "code",
   "execution_count": null,
   "metadata": {},
   "outputs": [],
   "source": [
    "# user—tag粒度统计四个指标的数量 (需要分批聚合，一次性太大了)\n",
    "# for col in tqdm(['is_like', 'is_favourite', 'is_share', 'is_finish']):\n",
    "#     tmp = df_train.groupby(['userid','videoid'])[col].sum().to_frame().reset_index(level=[0,1])\n",
    "#     tmp.columns = ['userid','videoid', f'tag_{col}_sum']\n",
    "#     tmp.to_pickle(f'/home/workspace/output/feats/user_video_{col}_sum.pickle')"
   ]
  },
  {
   "cell_type": "code",
   "execution_count": null,
   "metadata": {},
   "outputs": [],
   "source": [
    "# user—tag粒度统计四个指标的数量 (全量需要分批聚合，一次性太大了)\n",
    "from tqdm import tqdm\n",
    "for col in tqdm(['is_like', 'is_favourite', 'is_share', 'is_finish']):\n",
    "    tmp = df_train.groupby(['userid','tag'])[col].sum().to_frame().reset_index(level=[0,1])\n",
    "    tmp.columns = ['userid','tag', f'user_tag_{col}_sum']\n",
    "    tmp.to_pickle(f'../temp_data/user_tag_{col}_sum.pickle')\n",
    "tmp.head()"
   ]
  },
  {
   "cell_type": "code",
   "execution_count": null,
   "metadata": {},
   "outputs": [],
   "source": [
    "# mean是有意义的，反应了用户各动作的执行比例\n",
    "for col in tqdm(['is_like', 'is_favourite', 'is_share', 'is_finish']):\n",
    "    tmp = df_train.groupby('userid')[col].mean().to_frame().reset_index(level=[0])\n",
    "    tmp.columns = ['userid', f'userid_{col}_mean']\n",
    "    tmp.to_pickle(f'../temp_data/userid_{col}_mean.pickle')\n",
    "for col in tqdm(['is_like', 'is_favourite', 'is_share', 'is_finish']):\n",
    "    tmp = df_train.groupby('videoid')[col].mean().to_frame().reset_index(level=[0])\n",
    "    tmp.columns = ['videoid', f'videoid_{col}_mean']\n",
    "    tmp.to_pickle(f'../temp_data/videoid_{col}_mean.pickle')\n",
    "# tag粒度统计四个指标的数量\n",
    "for col in tqdm(['is_like', 'is_favourite', 'is_share', 'is_finish']):\n",
    "    tmp = df_train.groupby('tag')[col].mean().to_frame().reset_index(level=[0])\n",
    "    tmp.columns = ['tag', f'tag_{col}_mean']\n",
    "    tmp.to_pickle(f'../temp_data/tag_{col}_mean.pickle')"
   ]
  },
  {
   "cell_type": "code",
   "execution_count": null,
   "metadata": {},
   "outputs": [],
   "source": [
    "# user—tag粒度统计count\n",
    "from tqdm import tqdm\n",
    "tmp = df_train.groupby(['userid','tag'])['videoid'].count().to_frame().reset_index(level=[0,1])\n",
    "tmp.columns = ['userid','tag', f'user_tag_cnt']\n",
    "tmp.to_pickle(f'../temp_data/user_tag_cnt.pickle')\n",
    "tmp.head()"
   ]
  },
  {
   "cell_type": "code",
   "execution_count": null,
   "metadata": {},
   "outputs": [],
   "source": [
    "# video-tag 粒度统计count\n",
    "tmp = df_train.groupby(['videoid','tag'])[col].count().to_frame().reset_index(level=[0,1])\n",
    "tmp.columns = ['userid','tag', f'user_tag_{col}_cnt']\n",
    "tmp.to_pickle(f'../temp_data/video_tag_{col}_cnt.pickle')\n",
    "tmp.head()"
   ]
  }
 ],
 "metadata": {
  "language_info": {
   "name": "python"
  },
  "orig_nbformat": 4
 },
 "nbformat": 4,
 "nbformat_minor": 2
}
