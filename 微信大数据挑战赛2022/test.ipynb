{
 "cells": [
  {
   "cell_type": "code",
   "execution_count": 7,
   "metadata": {},
   "outputs": [],
   "source": [
    "#https://zhuanlan.zhihu.com/p/407918235\n",
    "import re\n",
    "sentence = '  微信2022，冲冲  冲， 测dadfa试测CCSSD试#*（￥……啊13566156846513啊啊,.啊啊* 牢宀宀和平────￣'"
   ]
  },
  {
   "cell_type": "code",
   "execution_count": 4,
   "metadata": {},
   "outputs": [
    {
     "data": {
      "text/plain": [
       "'微信2022冲冲冲测dadfa试测试13566156846513牢宀宀和平'"
      ]
     },
     "execution_count": 4,
     "metadata": {},
     "output_type": "execute_result"
    }
   ],
   "source": [
    "out = re.sub(r\"[^\\w]\",\"\", sentence, flags=re.I)\n",
    "out = re.sub(r\"啊\",\"\",out)\n",
    "out = re.sub(r\"嗯\",\"\",out)\n",
    "out"
   ]
  },
  {
   "cell_type": "code",
   "execution_count": 6,
   "metadata": {},
   "outputs": [
    {
     "data": {
      "text/plain": [
       "'  微信，冲冲  冲， 测dadfa试测试#*（￥……啊啊啊,.啊啊* 牢宀宀和平────￣'"
      ]
     },
     "execution_count": 6,
     "metadata": {},
     "output_type": "execute_result"
    }
   ],
   "source": [
    "\n",
    "out = re.sub(r\"[0-9]\",\"\", sentence, flags=re.I)\n",
    "out"
   ]
  },
  {
   "cell_type": "code",
   "execution_count": 8,
   "metadata": {},
   "outputs": [
    {
     "data": {
      "text/plain": [
       "'  微信2022，冲冲  冲， 测试测试#*（￥……啊13566156846513啊啊,.啊啊* 牢宀宀和平────￣'"
      ]
     },
     "execution_count": 8,
     "metadata": {},
     "output_type": "execute_result"
    }
   ],
   "source": [
    "out = re.sub(r\"[a-z]\",\"\", sentence, flags=re.I)\n",
    "out"
   ]
  },
  {
   "cell_type": "code",
   "execution_count": 9,
   "metadata": {},
   "outputs": [
    {
     "data": {
      "text/plain": [
       "'微信冲冲冲测试测试牢宀宀和平'"
      ]
     },
     "execution_count": 9,
     "metadata": {},
     "output_type": "execute_result"
    }
   ],
   "source": [
    "ocr_out = re.sub(r\"[^\\w]\",\"\", sentence, flags=re.I)#去掉异常字符\n",
    "ocr_out = re.sub(r\"[0-9]\",\"\", ocr_out, flags=re.I)#去掉数字\n",
    "ocr_out = re.sub(r\"[a-z]\",\"\", ocr_out, flags=re.I)#去掉英文字母\n",
    "ocr_out = re.sub(r\"啊\",\"\",ocr_out)#去掉语气词\n",
    "ocr_out = re.sub(r\"嗯\",\"\",ocr_out)\n",
    "ocr_out = re.sub(r\"哎\",\"\",ocr_out)\n",
    "ocr_out = re.sub(r\"呀\",\"\",ocr_out)\n",
    "ocr_out"
   ]
  },
  {
   "cell_type": "code",
   "execution_count": 11,
   "metadata": {},
   "outputs": [
    {
     "data": {
      "text/plain": [
       "100000"
      ]
     },
     "execution_count": 11,
     "metadata": {},
     "output_type": "execute_result"
    }
   ],
   "source": [
    "8975+2875+2065+6005+9704+8513+2996+3665+1342+14376+9641+9893+3344+1408+3206+3069+328+202+3296+1872+749+932+1544\n"
   ]
  },
  {
   "cell_type": "code",
   "execution_count": null,
   "metadata": {},
   "outputs": [],
   "source": [
    "[8975,2875,2065,6005,9704,8513,2996,3665,1342,14376,9641,9893,3344,1408,3206,3069,328,202,3296,1872,749,932,1544]"
   ]
  }
 ],
 "metadata": {
  "interpreter": {
   "hash": "a2e8f04d65c62c49dbc0f2adda76bbd103f82c3255fc54c7e3855bd92e2af645"
  },
  "kernelspec": {
   "display_name": "Python 3.7.10 ('pytorch')",
   "language": "python",
   "name": "python3"
  },
  "language_info": {
   "codemirror_mode": {
    "name": "ipython",
    "version": 3
   },
   "file_extension": ".py",
   "mimetype": "text/x-python",
   "name": "python",
   "nbconvert_exporter": "python",
   "pygments_lexer": "ipython3",
   "version": "3.7.10"
  },
  "orig_nbformat": 4
 },
 "nbformat": 4,
 "nbformat_minor": 2
}
