{
 "cells": [
  {
   "cell_type": "code",
   "execution_count": 1,
   "metadata": {
    "collapsed": true
   },
   "outputs": [
    {
     "name": "stdout",
     "output_type": "stream",
     "text": [
      "3.2.1\n"
     ]
    },
    {
     "name": "stderr",
     "output_type": "stream",
     "text": [
      "d:\\softinstall\\anaconda3\\envs\\tensorflow13\\lib\\site-packages\\tensorflow\\python\\framework\\dtypes.py:526: FutureWarning: Passing (type, 1) or '1type' as a synonym of type is deprecated; in a future version of numpy, it will be understood as (type, (1,)) / '(1,)type'.\n",
      "  _np_qint8 = np.dtype([(\"qint8\", np.int8, 1)])\n",
      "d:\\softinstall\\anaconda3\\envs\\tensorflow13\\lib\\site-packages\\tensorflow\\python\\framework\\dtypes.py:527: FutureWarning: Passing (type, 1) or '1type' as a synonym of type is deprecated; in a future version of numpy, it will be understood as (type, (1,)) / '(1,)type'.\n",
      "  _np_quint8 = np.dtype([(\"quint8\", np.uint8, 1)])\n",
      "d:\\softinstall\\anaconda3\\envs\\tensorflow13\\lib\\site-packages\\tensorflow\\python\\framework\\dtypes.py:528: FutureWarning: Passing (type, 1) or '1type' as a synonym of type is deprecated; in a future version of numpy, it will be understood as (type, (1,)) / '(1,)type'.\n",
      "  _np_qint16 = np.dtype([(\"qint16\", np.int16, 1)])\n",
      "d:\\softinstall\\anaconda3\\envs\\tensorflow13\\lib\\site-packages\\tensorflow\\python\\framework\\dtypes.py:529: FutureWarning: Passing (type, 1) or '1type' as a synonym of type is deprecated; in a future version of numpy, it will be understood as (type, (1,)) / '(1,)type'.\n",
      "  _np_quint16 = np.dtype([(\"quint16\", np.uint16, 1)])\n",
      "d:\\softinstall\\anaconda3\\envs\\tensorflow13\\lib\\site-packages\\tensorflow\\python\\framework\\dtypes.py:530: FutureWarning: Passing (type, 1) or '1type' as a synonym of type is deprecated; in a future version of numpy, it will be understood as (type, (1,)) / '(1,)type'.\n",
      "  _np_qint32 = np.dtype([(\"qint32\", np.int32, 1)])\n",
      "d:\\softinstall\\anaconda3\\envs\\tensorflow13\\lib\\site-packages\\tensorflow\\python\\framework\\dtypes.py:535: FutureWarning: Passing (type, 1) or '1type' as a synonym of type is deprecated; in a future version of numpy, it will be understood as (type, (1,)) / '(1,)type'.\n",
      "  np_resource = np.dtype([(\"resource\", np.ubyte, 1)])\n"
     ]
    }
   ],
   "source": [
    "import pandas as pd\n",
    "import numpy as np\n",
    "from sklearn.model_selection import GroupKFold, KFold\n",
    "from sklearn.metrics import log_loss\n",
    "from sklearn.preprocessing import LabelEncoder, MinMaxScaler, OneHotEncoder\n",
    "import lightgbm as lgb\n",
    "print(lgb.__version__)\n",
    "import  time\n",
    "import os\n",
    "import tensorflow as tf\n",
    "from tqdm import tqdm\n",
    "train_path1 = r\"./data/train_fea/20200801.csv\"\n",
    "train_path2 = r\"./data/train_fea/20200802.csv\"\n",
    "test_path = r\"./data/test_fea/20200901.csv\"\n",
    "submission_path = r\"./sample_submission.csv\"\n",
    "\n",
    "submission = pd.read_csv(submission_path)\n",
    "train_data1 = pd.read_csv(train_path1)\n",
    "train_data1['date'] = 1\n",
    "\n",
    "train_data2 = pd.read_csv(train_path2)\n",
    "train_data2['date'] = 2\n",
    "train_data = pd.concat([train_data1,train_data2])\n",
    "test_data =  pd.read_csv(test_path)\n",
    "test_data['date'] = 3"
   ]
  },
  {
   "cell_type": "code",
   "execution_count": 2,
   "outputs": [
    {
     "data": {
      "text/plain": "   order_id  ata   distance  simple_eta  driver_id  slice_id  weather  \\\n0   5966280  531  2923.0000         495      75457       153        5   \n1   6099942  590  3212.2780         559      19210       157        5   \n2   2792816  559  7868.4474         626      38822        36        5   \n3   5780075  677  4976.3791         446      51627        76        5   \n4   7808558  968  4985.9186         872      39965        52        5   \n\n   hightemp  lowtemp    true_t    wight_t  cross_t  status_t  link_num  \\\n0        28       26  368.0639  441.57001    127.0       129        65   \n1        28       26  475.7070  580.64778     83.0       135        63   \n2        28       26  596.1600  709.76583     30.0       115        62   \n3        28       26  414.2489  497.09868     32.0       140        70   \n4        28       26  754.9907  878.61882    117.0       132        75   \n\n   cross_num  date  \n0          5     1  \n1          4     1  \n2          1     1  \n3          1     1  \n4          5     1  ",
      "text/html": "<div>\n<style scoped>\n    .dataframe tbody tr th:only-of-type {\n        vertical-align: middle;\n    }\n\n    .dataframe tbody tr th {\n        vertical-align: top;\n    }\n\n    .dataframe thead th {\n        text-align: right;\n    }\n</style>\n<table border=\"1\" class=\"dataframe\">\n  <thead>\n    <tr style=\"text-align: right;\">\n      <th></th>\n      <th>order_id</th>\n      <th>ata</th>\n      <th>distance</th>\n      <th>simple_eta</th>\n      <th>driver_id</th>\n      <th>slice_id</th>\n      <th>weather</th>\n      <th>hightemp</th>\n      <th>lowtemp</th>\n      <th>true_t</th>\n      <th>wight_t</th>\n      <th>cross_t</th>\n      <th>status_t</th>\n      <th>link_num</th>\n      <th>cross_num</th>\n      <th>date</th>\n    </tr>\n  </thead>\n  <tbody>\n    <tr>\n      <th>0</th>\n      <td>5966280</td>\n      <td>531</td>\n      <td>2923.0000</td>\n      <td>495</td>\n      <td>75457</td>\n      <td>153</td>\n      <td>5</td>\n      <td>28</td>\n      <td>26</td>\n      <td>368.0639</td>\n      <td>441.57001</td>\n      <td>127.0</td>\n      <td>129</td>\n      <td>65</td>\n      <td>5</td>\n      <td>1</td>\n    </tr>\n    <tr>\n      <th>1</th>\n      <td>6099942</td>\n      <td>590</td>\n      <td>3212.2780</td>\n      <td>559</td>\n      <td>19210</td>\n      <td>157</td>\n      <td>5</td>\n      <td>28</td>\n      <td>26</td>\n      <td>475.7070</td>\n      <td>580.64778</td>\n      <td>83.0</td>\n      <td>135</td>\n      <td>63</td>\n      <td>4</td>\n      <td>1</td>\n    </tr>\n    <tr>\n      <th>2</th>\n      <td>2792816</td>\n      <td>559</td>\n      <td>7868.4474</td>\n      <td>626</td>\n      <td>38822</td>\n      <td>36</td>\n      <td>5</td>\n      <td>28</td>\n      <td>26</td>\n      <td>596.1600</td>\n      <td>709.76583</td>\n      <td>30.0</td>\n      <td>115</td>\n      <td>62</td>\n      <td>1</td>\n      <td>1</td>\n    </tr>\n    <tr>\n      <th>3</th>\n      <td>5780075</td>\n      <td>677</td>\n      <td>4976.3791</td>\n      <td>446</td>\n      <td>51627</td>\n      <td>76</td>\n      <td>5</td>\n      <td>28</td>\n      <td>26</td>\n      <td>414.2489</td>\n      <td>497.09868</td>\n      <td>32.0</td>\n      <td>140</td>\n      <td>70</td>\n      <td>1</td>\n      <td>1</td>\n    </tr>\n    <tr>\n      <th>4</th>\n      <td>7808558</td>\n      <td>968</td>\n      <td>4985.9186</td>\n      <td>872</td>\n      <td>39965</td>\n      <td>52</td>\n      <td>5</td>\n      <td>28</td>\n      <td>26</td>\n      <td>754.9907</td>\n      <td>878.61882</td>\n      <td>117.0</td>\n      <td>132</td>\n      <td>75</td>\n      <td>5</td>\n      <td>1</td>\n    </tr>\n  </tbody>\n</table>\n</div>"
     },
     "execution_count": 2,
     "metadata": {},
     "output_type": "execute_result"
    }
   ],
   "source": [
    "train_data.head()"
   ],
   "metadata": {
    "collapsed": false,
    "pycharm": {
     "name": "#%%\n"
    }
   }
  },
  {
   "cell_type": "markdown",
   "source": [
    "+ 长距离的订单只占少数，75%的订单都在4713以下\n",
    "+ 路长、link_num、和预测指标ata存在着强相关，适合做组合特征"
   ],
   "metadata": {
    "collapsed": false,
    "pycharm": {
     "name": "#%% md\n"
    }
   }
  },
  {
   "cell_type": "code",
   "execution_count": 3,
   "outputs": [
    {
     "data": {
      "text/plain": "count    148457.000000\nmean       3856.073093\nstd        2850.957727\nmin          39.693600\n25%        2089.206200\n50%        3148.491700\n75%        4713.768300\nmax       81475.691700\nName: distance, dtype: float64"
     },
     "execution_count": 3,
     "metadata": {},
     "output_type": "execute_result"
    }
   ],
   "source": [
    "train_data['distance'].describe()"
   ],
   "metadata": {
    "collapsed": false,
    "pycharm": {
     "name": "#%%\n"
    }
   }
  },
  {
   "cell_type": "code",
   "execution_count": 4,
   "outputs": [
    {
     "data": {
      "text/plain": "count    148457.000000\nmean        614.533212\nstd         357.997692\nmin          26.000000\n25%         368.000000\n50%         536.000000\n75%         768.000000\nmax        5456.000000\nName: ata, dtype: float64"
     },
     "execution_count": 4,
     "metadata": {},
     "output_type": "execute_result"
    }
   ],
   "source": [
    "train_data['ata'].describe()"
   ],
   "metadata": {
    "collapsed": false,
    "pycharm": {
     "name": "#%%\n"
    }
   }
  },
  {
   "cell_type": "code",
   "execution_count": 5,
   "outputs": [
    {
     "data": {
      "text/plain": "count    148457.000000\nmean         63.072870\nstd          34.758621\nmin           3.000000\n25%          39.000000\n50%          56.000000\n75%          79.000000\nmax         501.000000\nName: link_num, dtype: float64"
     },
     "execution_count": 5,
     "metadata": {},
     "output_type": "execute_result"
    }
   ],
   "source": [
    "train_data['link_num'].describe()\n"
   ],
   "metadata": {
    "collapsed": false,
    "pycharm": {
     "name": "#%%\n"
    }
   }
  },
  {
   "cell_type": "markdown",
   "source": [
    "+ 时间特征\n",
    "+ 将出发时间转化为小时，并进行统计，可以发现大部分人还是喜欢提前9个小时左右提交订单"
   ],
   "metadata": {
    "collapsed": false,
    "pycharm": {
     "name": "#%% md\n"
    }
   }
  },
  {
   "cell_type": "code",
   "execution_count": 19,
   "outputs": [
    {
     "data": {
      "text/plain": "count    148457.000000\nmean          9.584698\nstd           5.732210\nmin           0.000000\n25%           5.083333\n50%           9.416667\n75%          13.416667\nmax          23.916667\nName: slice_hour, dtype: float64"
     },
     "execution_count": 19,
     "metadata": {},
     "output_type": "execute_result"
    }
   ],
   "source": [
    "train_data['slice_hour'] = train_data['slice_id'].apply(lambda x: x*5/60)\n",
    "#train_data['week_day'] = train_data['date'].apply(lambda x: x%7 + 1)\n",
    "train_data['slice_hour'].describe()"
   ],
   "metadata": {
    "collapsed": false,
    "pycharm": {
     "name": "#%%\n"
    }
   }
  },
  {
   "cell_type": "code",
   "execution_count": 21,
   "outputs": [
    {
     "data": {
      "text/plain": "count    148457.000000\nmean         10.242220\nstd           5.966628\nmin           0.433333\n25%           6.133333\n50%           8.933333\n75%          12.800000\nmax          90.933333\nName: ata_hour, dtype: float64"
     },
     "execution_count": 21,
     "metadata": {},
     "output_type": "execute_result"
    }
   ],
   "source": [
    "train_data['ata_hour'] = train_data['ata'].apply(lambda x: x/60)\n",
    "train_data['ata_hour'].describe()"
   ],
   "metadata": {
    "collapsed": false,
    "pycharm": {
     "name": "#%%\n"
    }
   }
  },
  {
   "cell_type": "markdown",
   "source": [
    "+ 前两天有41584个司机"
   ],
   "metadata": {
    "collapsed": false,
    "pycharm": {
     "name": "#%% md\n"
    }
   }
  },
  {
   "cell_type": "code",
   "execution_count": null,
   "outputs": [],
   "source": [
    "len(train_data['driver_id'].unique())\n",
    "\n"
   ],
   "metadata": {
    "collapsed": false,
    "pycharm": {
     "name": "#%%\n"
    }
   }
  },
  {
   "cell_type": "code",
   "execution_count": null,
   "outputs": [],
   "source": [
    "\n"
   ],
   "metadata": {
    "collapsed": false,
    "pycharm": {
     "name": "#%%\n"
    }
   }
  }
 ],
 "metadata": {
  "kernelspec": {
   "display_name": "Python 3",
   "language": "python",
   "name": "python3"
  },
  "language_info": {
   "codemirror_mode": {
    "name": "ipython",
    "version": 2
   },
   "file_extension": ".py",
   "mimetype": "text/x-python",
   "name": "python",
   "nbconvert_exporter": "python",
   "pygments_lexer": "ipython2",
   "version": "2.7.6"
  }
 },
 "nbformat": 4,
 "nbformat_minor": 0
}