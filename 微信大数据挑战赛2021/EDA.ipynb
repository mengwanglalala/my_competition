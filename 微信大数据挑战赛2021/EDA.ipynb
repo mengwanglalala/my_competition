{
 "cells": [
  {
   "cell_type": "code",
   "execution_count": null,
   "metadata": {},
   "outputs": [],
   "source": [
    "import pandas as pd\n",
    "train_data = pd.read_csv('./data/train_base.csv')\n",
    "train_data.head()"
   ]
  },
  {
   "cell_type": "code",
   "execution_count": null,
   "metadata": {},
   "outputs": [],
   "source": [
    "import matplotlib.pyplot as plt\n",
    "import seaborn as sns\n",
    "f,ax=plt.subplots(1,2,figsize=(18,8))\n",
    "train_data['label'].value_counts().plot.pie(autopct='%1.1f%%',ax=ax[0],shadow=True)\n",
    "ax[0].set_title('label')\n",
    "ax[0].set_ylabel('')\n",
    "sns.countplot('label',data=train_data,ax=ax[1])\n",
    "ax[1].set_title('label')\n",
    "plt.show()"
   ]
  },
  {
   "cell_type": "code",
   "execution_count": null,
   "metadata": {},
   "outputs": [],
   "source": [
    "import matplotlib.pyplot as plt\n",
    "import seaborn as sns\n",
    "f,ax=plt.subplots(1,2,figsize=(18,8))\n",
    "train_data['gdr_cd'].value_counts().plot.pie(autopct='%1.1f%%',ax=ax[0],shadow=True)\n",
    "ax[0].set_title('gdr_cd')\n",
    "ax[0].set_ylabel('')\n",
    "sns.countplot('gdr_cd',data=train_data,ax=ax[1])\n",
    "ax[1].set_title('gdr_cd')\n",
    "plt.show()"
   ]
  },
  {
   "cell_type": "code",
   "execution_count": null,
   "metadata": {},
   "outputs": [],
   "source": [
    "import matplotlib.pyplot as plt\n",
    "import seaborn as sns\n",
    "f,ax=plt.subplots(1,2,figsize=(18,8))\n",
    "train_data['cty_cd'].value_counts().plot.pie(autopct='%1.1f%%',ax=ax[0],shadow=True)\n",
    "ax[0].set_title('cty_cd')\n",
    "ax[0].set_ylabel('')\n",
    "sns.countplot('cty_cd',data=train_data,ax=ax[1])\n",
    "ax[1].set_title('cty_cd')\n",
    "plt.show()"
   ]
  },
  {
   "cell_type": "code",
   "execution_count": null,
   "metadata": {},
   "outputs": [],
   "source": [
    "print(f'There are {train_base.isnull().any().sum()} columns in train dataset with missing values.')\n"
   ]
  },
  {
   "cell_type": "code",
   "execution_count": null,
   "metadata": {},
   "outputs": [],
   "source": [
    "is_none = train_base.isnull()\n",
    "print(len(is_none))\n",
    "print(len(is_none[is_none['age'] == True]))\n",
    "print(len(is_none[is_none['gdr_cd'] == True]))\n",
    "print(len(is_none[is_none['cty_cd'] == True]))\n",
    "print(len(is_none[(is_none['age'] == True)&(is_none['gdr_cd'] == True)&(is_none['cty_cd'] == True)]))\n",
    "print(train_base.dropna(subset = ['age','gdr_cd']))\n",
    "# train_view = pd.read_csv('./data/train_view.csv',encoding='gbk')\n",
    "# train_view.head()"
   ]
  },
  {
   "cell_type": "code",
   "execution_count": null,
   "metadata": {},
   "outputs": [],
   "source": [
    "test_trx = pd.read_csv('./data/testa_trx.csv',encoding='gbk')\n",
    "test_trx.head()"
   ]
  },
  {
   "cell_type": "code",
   "execution_count": null,
   "metadata": {},
   "outputs": [],
   "source": [
    "import pandas as pd\n",
    "train = pd.read_csv('./data/train_base.csv')\n",
    "testb = pd.read_csv('./data/testb_base.csv')\n",
    "train.head()\n",
    "feature =  'age' #AGN_CUR_YEAR_AMT -1.15 #'AGN_AGR_LATEST_AGN_AMT'+ 0.75 PUB_TO_PRV_TRX_AMT_CUR_YEAR -0.75\n",
    "#'OPN_TM'+0.35\n",
    "tmp = train[feature].apply(lambda x: np.log(x))\n",
    "\n",
    "tmp2 = testb[feature].apply(lambda x: np.log(x))\n",
    "\n",
    "plt.hist(tmp[np.isfinite(tmp)], bins=40, label='train',alpha=0.5)\n",
    "#plt.hist(tmp1[np.isfinite(tmp1)], bins=40, label='testa',alpha=0.5)\n",
    "plt.hist(tmp2[np.isfinite(tmp2)], bins=40, label='testb',alpha=0.5)\n",
    "#plt.hist(tmp3[np.isfinite(tmp2)], bins=40, label='valid',alpha=0.5)\n",
    "plt.legend()\n",
    "\n",
    "testb[feature].describe()"
   ]
  },
  {
   "cell_type": "code",
   "execution_count": null,
   "metadata": {},
   "outputs": [],
   "source": [
    "import matplotlib.pyplot as plt\n",
    "import seaborn as sns\n",
    "f,ax=plt.subplots(1,2,figsize=(18,8))\n",
    "data['gdr_cd'].value_counts().plot.pie(autopct='%1.1f%%',ax=ax[0],shadow=True)\n",
    "ax[0].set_title('gdr_cd')\n",
    "ax[0].set_ylabel('')\n",
    "sns.countplot('gdr_cd',data=data,ax=ax[1])\n",
    "ax[1].set_title('gdr_cd')\n",
    "plt.show()"
   ]
  },
  {
   "cell_type": "code",
   "execution_count": null,
   "metadata": {},
   "outputs": [],
   "source": [
    "import matplotlib.pyplot as plt\n",
    "import seaborn as sns\n",
    "f,ax=plt.subplots(1,2,figsize=(18,8))\n",
    "data['cty_cd'].value_counts().plot.pie(autopct='%1.1f%%',ax=ax[0],shadow=True)\n",
    "ax[0].set_title('cty_cd')\n",
    "ax[0].set_ylabel('')\n",
    "sns.countplot('cty_cd',data=data,ax=ax[1])\n",
    "ax[1].set_title('cty_cd')\n",
    "plt.show()"
   ]
  }
 ],
 "metadata": {
  "language_info": {
   "name": "python"
  },
  "orig_nbformat": 4
 },
 "nbformat": 4,
 "nbformat_minor": 2
}
