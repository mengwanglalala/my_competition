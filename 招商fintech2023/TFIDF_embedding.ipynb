{
 "cells": [
  {
   "cell_type": "code",
   "execution_count": null,
   "metadata": {},
   "outputs": [],
   "source": [
    "import pandas as pd\n",
    "import numpy as np\n",
    "train_trx = pd.read_csv('/data/train_trx.csv')\n",
    "print( train_trx.shape,)"
   ]
  },
  {
   "cell_type": "code",
   "execution_count": null,
   "metadata": {},
   "outputs": [],
   "source": [
    "train_trx.head()"
   ]
  },
  {
   "cell_type": "code",
   "execution_count": null,
   "metadata": {},
   "outputs": [],
   "source": [
    "# 统计每个客户的交易次数和交易金额\n",
    "df_count = train_trx.groupby(\"cust_wid\").agg({\"trx_amt\": [\"count\", \"sum\", \"min\", \"max\", \"mean\"]})\n",
    "df_count.columns = [\"trx_count\", \"trx_sum\", \"trx_min\", \"trx_max\", \"trx_mean\"]\n",
    "df_count =  df_count.reset_index()\n",
    "df_count.head()"
   ]
  },
  {
   "cell_type": "code",
   "execution_count": null,
   "metadata": {},
   "outputs": [],
   "source": [
    "df_unique = train_trx.groupby(\"cust_wid\").nunique()\n",
    "df_unique.columns = [\"trx_cd_unique\", \"trx_amt_unique\", \"trx_tm_unique\"]\n",
    "df_unique =  df_unique.reset_index()\n",
    "df_unique.head()"
   ]
  },
  {
   "cell_type": "code",
   "execution_count": null,
   "metadata": {},
   "outputs": [],
   "source": [
    "operation_counts = train_trx[['cust_wid', 'trx_cd']].groupby(['cust_wid', 'trx_cd']).size().unstack(fill_value=0)\n",
    "operation_counts.reset_index().to_csv('./train_trx_operation_emebdding.csv',index = 0)"
   ]
  },
  {
   "cell_type": "code",
   "execution_count": null,
   "metadata": {},
   "outputs": [],
   "source": [
    "import datetime as dt\n",
    "train_trx['trx_tm'] = train_trx['trx_tm'].apply(lambda x: dt.datetime.strptime(x,'%Y-%m-%d %H:%M:%S') if type(x)==str else pd.NaT)\n",
    "train_trx['trx_tm']"
   ]
  },
  {
   "cell_type": "code",
   "execution_count": null,
   "metadata": {},
   "outputs": [],
   "source": [
    "train_trx[\"year\"] = train_trx[\"trx_tm\"].apply(lambda x: x.year)\n",
    "train_trx"
   ]
  },
  {
   "cell_type": "code",
   "execution_count": null,
   "metadata": {},
   "outputs": [],
   "source": [
    "train_trx[\"year\"] = train_trx[\"trx_tm\"].apply(lambda x: x.year)\n",
    "train_trx[\"month\"] = train_trx[\"trx_tm\"].apply(lambda x: x.month)\n",
    "train_trx[\"day\"] = train_trx[\"trx_tm\"].apply(lambda x: x.day)\n",
    "train_trx[\"hour\"] = train_trx[\"trx_tm\"].apply(lambda x: x.hour)\n",
    "\n",
    "train_trx.head()"
   ]
  },
  {
   "cell_type": "code",
   "execution_count": null,
   "metadata": {},
   "outputs": [],
   "source": [
    "active_time = train_trx.groupby(\"cust_wid\")[\"trx_tm\"].agg([\"min\", \"max\"])\n",
    "active_time.columns = [\"first_trx_time\", \"last_trx_time\"]"
   ]
  },
  {
   "cell_type": "code",
   "execution_count": null,
   "metadata": {},
   "outputs": [],
   "source": [
    "active_time[\"active_time\"] = active_time[\"last_trx_time\"] - active_time[\"first_trx_time\"]\n",
    "active_time[\"active_time_days\"] = active_time[\"active_time\"].astype(\"timedelta64[D]\")\n",
    "active_time"
   ]
  },
  {
   "cell_type": "code",
   "execution_count": null,
   "metadata": {},
   "outputs": [],
   "source": [
    "train_trx.sort_values(by=['cust_wid', 'trx_tm'], inplace=True)\n",
    "\n",
    "# 计算每个用户登陆的日期列表，并按照日期顺序排序\n",
    "date_series = train_trx['trx_tm'].apply(lambda x: x.date())\n",
    "login_dates = train_trx.groupby('cust_wid')['trx_tm'].apply(lambda x: sorted(set(x.apply(lambda y: y.date()))))\n",
    "\n",
    "# 计算每个用户最长连续登陆天数\n",
    "max_consecutive_days = {}\n",
    "for cust_wid, dates in login_dates.iteritems():\n",
    "    max_consecutive_days[cust_wid] = 1\n",
    "    consecutive_days = 1\n",
    "    for i in range(1, len(dates)):\n",
    "        if (dates[i] - dates[i-1]).days == 1:\n",
    "            consecutive_days += 1\n",
    "            max_consecutive_days[cust_wid] = max(max_consecutive_days[cust_wid], consecutive_days)\n",
    "        else:\n",
    "            consecutive_days = 1\n",
    "\n",
    "max_consec = pd.DataFrame(list(max_consecutive_days.items()), columns=['cust_wid', 'max_consec'])\n",
    "max_consec"
   ]
  },
  {
   "cell_type": "code",
   "execution_count": null,
   "metadata": {},
   "outputs": [],
   "source": [
    "print(df_count.shape, df_unique.shape, active_time.shape, max_consec.shape)\n",
    "final_out = pd.merge(df_count,df_unique, on = ['cust_wid'])\n",
    "print(final_out.shape)\n",
    "final_out = pd.merge(final_out,active_time.reset_index()[['cust_wid','active_time_days']], on = ['cust_wid'])\n",
    "print(final_out.shape)\n",
    "final_out = pd.merge(final_out,max_consec, on = ['cust_wid'])\n",
    "print(final_out.shape)\n",
    "final_out.head()"
   ]
  },
  {
   "cell_type": "code",
   "execution_count": null,
   "metadata": {},
   "outputs": [],
   "source": [
    "print(final_out.shape)\n",
    "final_out.to_csv('./train_trx_fea.csv',index=0)"
   ]
  },
  {
   "cell_type": "code",
   "execution_count": null,
   "metadata": {},
   "outputs": [],
   "source": [
    "import pandas as pd\n",
    "import numpy as np\n",
    "test_base = pd.read_csv('/data/testa_base.csv')\n",
    "test_trx = pd.read_csv('/data/testa_trx.csv')\n",
    "print(test_base.shape, test_trx.shape)\n",
    "(50000, 4) (1563069, 4)"
   ]
  },
  {
   "cell_type": "code",
   "execution_count": null,
   "metadata": {},
   "outputs": [],
   "source": [
    "# 统计每个客户的交易次数和交易金额\n",
    "df_count = test_trx.groupby(\"cust_wid\").agg({\"trx_amt\": [\"count\", \"sum\", \"min\", \"max\", \"mean\"]})\n",
    "df_count.columns = [\"trx_count\", \"trx_sum\", \"trx_min\", \"trx_max\", \"trx_mean\"]\n",
    "df_count =  df_count.reset_index()\n",
    "df_count.head()"
   ]
  },
  {
   "cell_type": "code",
   "execution_count": null,
   "metadata": {},
   "outputs": [],
   "source": [
    "df_unique = test_trx.groupby(\"cust_wid\").nunique()\n",
    "df_unique.columns = [\"trx_cd_unique\", \"trx_amt_unique\", \"trx_tm_unique\"]\n",
    "df_unique =  df_unique.reset_index()\n",
    "df_unique.head()"
   ]
  },
  {
   "cell_type": "code",
   "execution_count": null,
   "metadata": {},
   "outputs": [],
   "source": [
    "operation_counts = test_trx[['cust_wid', 'trx_cd']].groupby(['cust_wid', 'trx_cd']).size().unstack(fill_value=0)\n",
    "operation_counts.reset_index().to_csv('./test_trx_trx_operation_emebdding.csv',index = 0)"
   ]
  },
  {
   "cell_type": "code",
   "execution_count": null,
   "metadata": {},
   "outputs": [],
   "source": [
    "import datetime as dt\n",
    "test_trx['trx_tm'] = test_trx['trx_tm'].apply(lambda x: dt.datetime.strptime(x,'%Y-%m-%d %H:%M:%S') if type(x)==str else pd.NaT)\n",
    "test_trx['trx_tm']"
   ]
  },
  {
   "cell_type": "code",
   "execution_count": null,
   "metadata": {},
   "outputs": [],
   "source": [
    "test_trx[\"year\"] = test_trx[\"trx_tm\"].apply(lambda x: x.year)\n",
    "test_trx[\"month\"] = test_trx[\"trx_tm\"].apply(lambda x: x.month)\n",
    "test_trx[\"day\"] = test_trx[\"trx_tm\"].apply(lambda x: x.day)\n",
    "test_trx[\"hour\"] = test_trx[\"trx_tm\"].apply(lambda x: x.hour)\n",
    "\n",
    "test_trx.head()"
   ]
  },
  {
   "cell_type": "code",
   "execution_count": null,
   "metadata": {},
   "outputs": [],
   "source": [
    "active_time = test_trx.groupby(\"cust_wid\")[\"trx_tm\"].agg([\"min\", \"max\"])\n",
    "active_time.columns = [\"first_trx_time\", \"last_trx_time\"]"
   ]
  },
  {
   "cell_type": "code",
   "execution_count": null,
   "metadata": {},
   "outputs": [],
   "source": [
    "active_time[\"active_time\"] = active_time[\"last_trx_time\"] - active_time[\"first_trx_time\"]\n",
    "active_time[\"active_time_days\"] = active_time[\"active_time\"].astype(\"timedelta64[D]\")\n",
    "active_time"
   ]
  },
  {
   "cell_type": "code",
   "execution_count": null,
   "metadata": {},
   "outputs": [],
   "source": [
    "test_trx.sort_values(by=['cust_wid', 'trx_tm'], inplace=True)\n",
    "\n",
    "# 计算每个用户登陆的日期列表，并按照日期顺序排序\n",
    "date_series = test_trx['trx_tm'].apply(lambda x: x.date())\n",
    "login_dates = test_trx.groupby('cust_wid')['trx_tm'].apply(lambda x: sorted(set(x.apply(lambda y: y.date()))))\n",
    "\n",
    "# 计算每个用户最长连续登陆天数\n",
    "max_consecutive_days = {}\n",
    "for cust_wid, dates in login_dates.iteritems():\n",
    "    max_consecutive_days[cust_wid] = 1\n",
    "    consecutive_days = 1\n",
    "    for i in range(1, len(dates)):\n",
    "        if (dates[i] - dates[i-1]).days == 1:\n",
    "            consecutive_days += 1\n",
    "            max_consecutive_days[cust_wid] = max(max_consecutive_days[cust_wid], consecutive_days)\n",
    "        else:\n",
    "            consecutive_days = 1\n",
    "\n",
    "max_consec = pd.DataFrame(list(max_consecutive_days.items()), columns=['cust_wid', 'max_consec'])"
   ]
  },
  {
   "cell_type": "code",
   "execution_count": null,
   "metadata": {},
   "outputs": [],
   "source": [
    "print(df_count.shape, df_unique.shape, active_time.shape, max_consec.shape)\n",
    "final_out = pd.merge(df_count,df_unique, on = ['cust_wid'])\n",
    "print(final_out.shape)\n",
    "final_out = pd.merge(final_out,active_time.reset_index()[['cust_wid','active_time_days']], on = ['cust_wid'])\n",
    "print(final_out.shape)\n",
    "final_out = pd.merge(final_out,max_consec, on = ['cust_wid'])\n",
    "print(final_out.shape)\n",
    "final_out.head()"
   ]
  },
  {
   "cell_type": "code",
   "execution_count": null,
   "metadata": {},
   "outputs": [],
   "source": [
    "print(final_out.shape)\n",
    "final_out.to_csv('./test_trx_fea.csv',index=0)"
   ]
  },
  {
   "cell_type": "code",
   "execution_count": null,
   "metadata": {},
   "outputs": [],
   "source": [
    "#　样本划分结束\n",
    "import pandas as pd\n",
    "import numpy as np\n",
    "\n",
    "train_trx = pd.read_csv('/data/train_trx.csv')\n",
    "test_trx = pd.read_csv('/data/testa_trx.csv')\n",
    "print(train_trx.shape,test_trx.shape)\n",
    "train_trx['is_train'] = 1\n",
    "test_trx['is_train'] = 0\n",
    "train_trx = pd.concat([train_trx,test_trx],axis=0)\n",
    "print(train_trx.shape)\n",
    "train_trx.head()"
   ]
  },
  {
   "cell_type": "code",
   "execution_count": null,
   "metadata": {},
   "outputs": [],
   "source": [
    "from sklearn.feature_extraction.text import TfidfVectorizer\n",
    "\n",
    "df = train_trx\n",
    "df['trx_cd'] =df['trx_cd'].astype(str)\n",
    "# 将操作序列转化为字符串\n",
    "df = df.groupby('cust_wid')['trx_cd'].apply(lambda x: ' '.join(x)).to_frame().reset_index()\n",
    "\n",
    "# 获取TfidfVectorizer的embedding\n",
    "vectorizer = TfidfVectorizer(max_features=20)\n",
    "embedding = vectorizer.fit_transform(df['trx_cd']).toarray()\n",
    "\n",
    "# 将embedding保存为DataFrame格式\n",
    "embedding_df = pd.DataFrame(embedding, columns=[f\"trx_embedding_{i+1}\" for i in range(20)])"
   ]
  },
  {
   "cell_type": "code",
   "execution_count": null,
   "metadata": {},
   "outputs": [],
   "source": [
    "embedding_df"
   ]
  },
  {
   "cell_type": "code",
   "execution_count": null,
   "metadata": {},
   "outputs": [],
   "source": [
    "df.head()"
   ]
  }
 ],
 "metadata": {
  "language_info": {
   "name": "python"
  },
  "orig_nbformat": 4
 },
 "nbformat": 4,
 "nbformat_minor": 2
}
