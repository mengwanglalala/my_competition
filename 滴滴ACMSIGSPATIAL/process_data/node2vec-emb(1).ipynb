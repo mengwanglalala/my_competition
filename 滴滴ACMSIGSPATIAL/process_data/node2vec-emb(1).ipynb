{
 "cells": [
  {
   "cell_type": "code",
   "execution_count": 1,
   "metadata": {},
   "outputs": [],
   "source": [
    "import pandas as pd\n",
    "import numpy as np\n",
    "import os\n",
    "train_path1 = r\"../data/train_fea/20200801.csv\"\n",
    "train_path2 = r\"../data/train_fea/20200802.csv\"\n",
    "test_path = r\"../data/test_fea/20200901.csv\"\n",
    "submission_path = r\"../sample_submission.csv\"\n",
    "# test_link_data = np.load('./data/train_fea/20200801_links.npz')\n",
    "# test_link_data = test_link_data['data']\n",
    "# print(test_link_data['data'])\n",
    "submission = pd.read_csv(submission_path)\n",
    "train_data1 = pd.read_csv(train_path1)\n",
    "train_data1['date'] = 1\n",
    "train_data2 = pd.read_csv(train_path2)\n",
    "train_data2['date'] = 2\n",
    "\n",
    "train_data = pd.concat([train_data1,train_data2])\n",
    "test_data =  pd.read_csv(test_path)\n",
    "test_data['date'] = 3\n",
    "data = pd.concat([train_data,test_data])"
   ]
  },
  {
   "cell_type": "code",
   "execution_count": 3,
   "metadata": {},
   "outputs": [
    {
     "data": {
      "text/plain": "0"
     },
     "execution_count": 3,
     "metadata": {},
     "output_type": "execute_result"
    }
   ],
   "source": [
    "os.system('pip install ipywidgets')"
   ]
  },
  {
   "cell_type": "code",
   "execution_count": 4,
   "metadata": {},
   "outputs": [
    {
     "data": {
      "text/plain": "0"
     },
     "execution_count": 4,
     "metadata": {},
     "output_type": "execute_result"
    }
   ],
   "source": [
    "os.system(\"pip install gensim==3.8.3\")"
   ]
  },
  {
   "cell_type": "code",
   "execution_count": 5,
   "metadata": {},
   "outputs": [
    {
     "data": {
      "text/plain": "0"
     },
     "execution_count": 5,
     "metadata": {},
     "output_type": "execute_result"
    }
   ],
   "source": [
    "os.system(\"pip install node2vec\")"
   ]
  },
  {
   "cell_type": "code",
   "execution_count": 6,
   "metadata": {},
   "outputs": [
    {
     "data": {
      "text/plain": "0"
     },
     "execution_count": 6,
     "metadata": {},
     "output_type": "execute_result"
    }
   ],
   "source": [
    "os.system(\"pip install deepwalk\")"
   ]
  },
  {
   "cell_type": "code",
   "execution_count": 7,
   "metadata": {},
   "outputs": [],
   "source": [
    "from ipywidgets import IntProgress"
   ]
  },
  {
   "cell_type": "code",
   "execution_count": 7,
   "metadata": {},
   "outputs": [],
   "source": [
    "path = \"./\""
   ]
  },
  {
   "cell_type": "code",
   "execution_count": 2,
   "metadata": {},
   "outputs": [],
   "source": [
    "import networkx as nx\n",
    "import node2vec as n2v\n",
    "from node2vec import Node2Vec"
   ]
  },
  {
   "cell_type": "code",
   "execution_count": 2,
   "metadata": {},
   "outputs": [],
   "source": [
    "import pandas as pd\n",
    "import numpy as np\n",
    "import gc\n",
    "import pickle\n",
    "import time\n",
    "import datetime\n",
    "import warnings \n",
    "warnings.filterwarnings('ignore')"
   ]
  },
  {
   "cell_type": "code",
   "execution_count": 5,
   "metadata": {},
   "outputs": [
    {
     "data": {
      "text/plain": "   order_id  ata   distance  simple_eta  driver_id  slice_id  weather  \\\n0   5966280  531  2923.0000         495      75457       153        5   \n1   6099942  590  3212.2780         559      19210       157        5   \n2   2792816  559  7868.4474         626      38822        36        5   \n3   5780075  677  4976.3791         446      51627        76        5   \n4   7808558  968  4985.9186         872      39965        52        5   \n\n   hightemp  lowtemp    true_t    wight_t  cross_t  status_t  link_num  \\\n0        28       26  368.0639  441.57001    127.0       129        65   \n1        28       26  475.7070  580.64778     83.0       135        63   \n2        28       26  596.1600  709.76583     30.0       115        62   \n3        28       26  414.2489  497.09868     32.0       140        70   \n4        28       26  754.9907  878.61882    117.0       132        75   \n\n   cross_num  date  \n0          5     1  \n1          4     1  \n2          1     1  \n3          1     1  \n4          5     1  ",
      "text/html": "<div>\n<style scoped>\n    .dataframe tbody tr th:only-of-type {\n        vertical-align: middle;\n    }\n\n    .dataframe tbody tr th {\n        vertical-align: top;\n    }\n\n    .dataframe thead th {\n        text-align: right;\n    }\n</style>\n<table border=\"1\" class=\"dataframe\">\n  <thead>\n    <tr style=\"text-align: right;\">\n      <th></th>\n      <th>order_id</th>\n      <th>ata</th>\n      <th>distance</th>\n      <th>simple_eta</th>\n      <th>driver_id</th>\n      <th>slice_id</th>\n      <th>weather</th>\n      <th>hightemp</th>\n      <th>lowtemp</th>\n      <th>true_t</th>\n      <th>wight_t</th>\n      <th>cross_t</th>\n      <th>status_t</th>\n      <th>link_num</th>\n      <th>cross_num</th>\n      <th>date</th>\n    </tr>\n  </thead>\n  <tbody>\n    <tr>\n      <th>0</th>\n      <td>5966280</td>\n      <td>531</td>\n      <td>2923.0000</td>\n      <td>495</td>\n      <td>75457</td>\n      <td>153</td>\n      <td>5</td>\n      <td>28</td>\n      <td>26</td>\n      <td>368.0639</td>\n      <td>441.57001</td>\n      <td>127.0</td>\n      <td>129</td>\n      <td>65</td>\n      <td>5</td>\n      <td>1</td>\n    </tr>\n    <tr>\n      <th>1</th>\n      <td>6099942</td>\n      <td>590</td>\n      <td>3212.2780</td>\n      <td>559</td>\n      <td>19210</td>\n      <td>157</td>\n      <td>5</td>\n      <td>28</td>\n      <td>26</td>\n      <td>475.7070</td>\n      <td>580.64778</td>\n      <td>83.0</td>\n      <td>135</td>\n      <td>63</td>\n      <td>4</td>\n      <td>1</td>\n    </tr>\n    <tr>\n      <th>2</th>\n      <td>2792816</td>\n      <td>559</td>\n      <td>7868.4474</td>\n      <td>626</td>\n      <td>38822</td>\n      <td>36</td>\n      <td>5</td>\n      <td>28</td>\n      <td>26</td>\n      <td>596.1600</td>\n      <td>709.76583</td>\n      <td>30.0</td>\n      <td>115</td>\n      <td>62</td>\n      <td>1</td>\n      <td>1</td>\n    </tr>\n    <tr>\n      <th>3</th>\n      <td>5780075</td>\n      <td>677</td>\n      <td>4976.3791</td>\n      <td>446</td>\n      <td>51627</td>\n      <td>76</td>\n      <td>5</td>\n      <td>28</td>\n      <td>26</td>\n      <td>414.2489</td>\n      <td>497.09868</td>\n      <td>32.0</td>\n      <td>140</td>\n      <td>70</td>\n      <td>1</td>\n      <td>1</td>\n    </tr>\n    <tr>\n      <th>4</th>\n      <td>7808558</td>\n      <td>968</td>\n      <td>4985.9186</td>\n      <td>872</td>\n      <td>39965</td>\n      <td>52</td>\n      <td>5</td>\n      <td>28</td>\n      <td>26</td>\n      <td>754.9907</td>\n      <td>878.61882</td>\n      <td>117.0</td>\n      <td>132</td>\n      <td>75</td>\n      <td>5</td>\n      <td>1</td>\n    </tr>\n  </tbody>\n</table>\n</div>"
     },
     "execution_count": 5,
     "metadata": {},
     "output_type": "execute_result"
    }
   ],
   "source": [
    "df_new = data\n",
    "df_new.head()"
   ]
  },
  {
   "cell_type": "code",
   "execution_count": 4,
   "metadata": {},
   "outputs": [],
   "source": [
    "from sklearn.preprocessing import OneHotEncoder,LabelEncoder"
   ]
  },
  {
   "cell_type": "code",
   "execution_count": 6,
   "metadata": {},
   "outputs": [
    {
     "data": {
      "text/plain": "   driver_id  slice_id  count\n0          0        15      1\n1          0        30      1\n2          0        37      1\n3          0        55      1\n4          0        58      1",
      "text/html": "<div>\n<style scoped>\n    .dataframe tbody tr th:only-of-type {\n        vertical-align: middle;\n    }\n\n    .dataframe tbody tr th {\n        vertical-align: top;\n    }\n\n    .dataframe thead th {\n        text-align: right;\n    }\n</style>\n<table border=\"1\" class=\"dataframe\">\n  <thead>\n    <tr style=\"text-align: right;\">\n      <th></th>\n      <th>driver_id</th>\n      <th>slice_id</th>\n      <th>count</th>\n    </tr>\n  </thead>\n  <tbody>\n    <tr>\n      <th>0</th>\n      <td>0</td>\n      <td>15</td>\n      <td>1</td>\n    </tr>\n    <tr>\n      <th>1</th>\n      <td>0</td>\n      <td>30</td>\n      <td>1</td>\n    </tr>\n    <tr>\n      <th>2</th>\n      <td>0</td>\n      <td>37</td>\n      <td>1</td>\n    </tr>\n    <tr>\n      <th>3</th>\n      <td>0</td>\n      <td>55</td>\n      <td>1</td>\n    </tr>\n    <tr>\n      <th>4</th>\n      <td>0</td>\n      <td>58</td>\n      <td>1</td>\n    </tr>\n  </tbody>\n</table>\n</div>"
     },
     "execution_count": 6,
     "metadata": {},
     "output_type": "execute_result"
    }
   ],
   "source": [
    "temp = df_new[['driver_id','slice_id']].groupby(['driver_id','slice_id'],as_index=False)['driver_id'].agg({'count'}).reset_index()\n",
    "temp.head()"
   ]
  },
  {
   "cell_type": "code",
   "execution_count": 9,
   "metadata": {},
   "outputs": [],
   "source": [
    "lbl1,lbl2 = LabelEncoder(),LabelEncoder()\n",
    "temp['slice_id'] = lbl1.fit_transform(temp['slice_id'].map(str))\n",
    "temp['driver_id'] = lbl2.fit_transform(temp['driver_id']) + (temp['slice_id'].max()+1)"
   ]
  },
  {
   "cell_type": "code",
   "execution_count": 10,
   "metadata": {},
   "outputs": [],
   "source": [
    "temp.to_csv('./cache/driver_slice_deepwalk.csv',index=False,header=False,sep=' ')"
   ]
  },
  {
   "cell_type": "code",
   "execution_count": 11,
   "metadata": {},
   "outputs": [],
   "source": [
    "from gensim.models.word2vec import Vocab"
   ]
  },
  {
   "cell_type": "code",
   "execution_count": 12,
   "metadata": {},
   "outputs": [
    {
     "name": "stdout",
     "output_type": "stream",
     "text": [
      "Wall time: 10min 19s\n"
     ]
    },
    {
     "data": {
      "text/plain": "0"
     },
     "execution_count": 12,
     "metadata": {},
     "output_type": "execute_result"
    }
   ],
   "source": [
    "%%time\n",
    "import os\n",
    "os.system('deepwalk --input ./cache/driver_slice_deepwalk.csv --format edgelist \\\n",
    "--output ./cache/driver_slice_deepwalk.emb --workers 40')"
   ]
  },
  {
   "cell_type": "code",
   "execution_count": 13,
   "metadata": {},
   "outputs": [],
   "source": [
    "npy = np.loadtxt('./cache/driver_slice_deepwalk.emb', delimiter=' ',skiprows=1)"
   ]
  },
  {
   "cell_type": "code",
   "execution_count": 14,
   "metadata": {},
   "outputs": [],
   "source": [
    "kfc = pd.DataFrame()\n",
    "kfc['driver_id'] = npy[:, 0]\n",
    "for i in range(1, 33):\n",
    "    #print (i)\n",
    "    kfc['driver_slice_deepwalk_' + str(i)] = npy[:, i]"
   ]
  },
  {
   "cell_type": "code",
   "execution_count": 15,
   "metadata": {},
   "outputs": [],
   "source": [
    "kfc = kfc[~kfc['driver_id'].isin(temp['slice_id'].unique())]"
   ]
  },
  {
   "cell_type": "code",
   "execution_count": 16,
   "metadata": {},
   "outputs": [],
   "source": [
    "kfc['driver_id'] = kfc['driver_id'] - (temp['slice_id'].max()+1)\n",
    "\n",
    "kfc['driver_id'] = kfc['driver_id'].astype(int)\n"
   ]
  },
  {
   "cell_type": "code",
   "execution_count": 17,
   "metadata": {},
   "outputs": [],
   "source": [
    "kfc['driver_id'] = lbl2.inverse_transform(kfc['driver_id'])\n",
    "\n",
    "kfc.to_pickle('./cache/kfc_driver_slice_new_04.pkl')"
   ]
  },
  {
   "cell_type": "code",
   "execution_count": 18,
   "metadata": {},
   "outputs": [],
   "source": [
    "import networkx as nx\n",
    "import node2vec as n2v\n",
    "from node2vec import Node2Vec"
   ]
  },
  {
   "cell_type": "code",
   "execution_count": 19,
   "metadata": {},
   "outputs": [],
   "source": [
    "G = nx.DiGraph()\n",
    "G.add_weighted_edges_from(temp[['driver_id','slice_id','count']].values)"
   ]
  },
  {
   "cell_type": "code",
   "execution_count": 20,
   "metadata": {},
   "outputs": [
    {
     "data": {
      "text/plain": "Computing transition probabilities:   0%|          | 0/55932 [00:00<?, ?it/s]",
      "application/vnd.jupyter.widget-view+json": {
       "version_major": 2,
       "version_minor": 0,
       "model_id": "46f1cb64291a4219b5891c29a31cc689"
      }
     },
     "metadata": {},
     "output_type": "display_data"
    },
    {
     "name": "stdout",
     "output_type": "stream",
     "text": [
      "Wall time: 34min 11s\n"
     ]
    }
   ],
   "source": [
    "%%time\n",
    "node2vec = Node2Vec(G, dimensions=32,walk_length=20,num_walks=180,workers=32)#walk_length32"
   ]
  },
  {
   "cell_type": "code",
   "execution_count": 21,
   "metadata": {},
   "outputs": [
    {
     "name": "stdout",
     "output_type": "stream",
     "text": [
      "Wall time: 31min 45s\n"
     ]
    }
   ],
   "source": [
    "%%time\n",
    "model = node2vec.fit(window=5,min_count=1,batch_words=8)"
   ]
  },
  {
   "cell_type": "code",
   "execution_count": 22,
   "metadata": {},
   "outputs": [],
   "source": [
    "model.wv.save_word2vec_format(path+'cache/kfc_driver_slice_new_04.bin')"
   ]
  },
  {
   "cell_type": "code",
   "execution_count": 24,
   "metadata": {},
   "outputs": [],
   "source": [
    "npy = np.loadtxt(path+'cache/kfc_driver_slice_new_04.bin', delimiter=' ',skiprows=1)\n",
    "n2v = pd.DataFrame()\n",
    "n2v['driver_id'] = npy[:, 0]\n",
    "for i in range(1, 33):\n",
    "    #print (i)\n",
    "    n2v['driver_slice_node2vec_' + str(i)] = npy[:, i]\n",
    "    \n",
    "n2v = n2v[~n2v['driver_id'].isin(temp['slice_id'].unique())]\n",
    "n2v['driver_id'] = n2v['driver_id'] - (temp['slice_id'].max()+1)\n",
    "n2v['driver_id'] = n2v['driver_id'].astype(int)\n",
    "n2v['driver_id'] = lbl2.inverse_transform(n2v['driver_id'])"
   ]
  },
  {
   "cell_type": "code",
   "execution_count": 25,
   "metadata": {},
   "outputs": [
    {
     "data": {
      "text/plain": "     driver_id  driver_slice_node2vec_1  driver_slice_node2vec_2  \\\n288      32841                 0.251528                 0.204280   \n289       5110                 0.162684                -0.298046   \n290      23497                 0.285328                 0.308566   \n291      29482                 0.743864                -0.305968   \n292        999                 0.978022                 0.159972   \n\n     driver_slice_node2vec_3  driver_slice_node2vec_4  \\\n288                -0.211265                 0.149438   \n289                 0.384109                 0.165838   \n290                 0.406302                 0.522508   \n291                 0.655279                 0.558280   \n292                 0.076900                 1.066224   \n\n     driver_slice_node2vec_5  driver_slice_node2vec_6  \\\n288                -0.582420                -1.030134   \n289                -0.662947                 0.604299   \n290                -0.124148                -0.062725   \n291                -0.121892                -0.479592   \n292                 0.465277                 0.113227   \n\n     driver_slice_node2vec_7  driver_slice_node2vec_8  \\\n288                -0.170559                -0.178498   \n289                -0.367587                -0.366502   \n290                -0.301508                -0.639524   \n291                -0.362802                -0.167520   \n292                -0.402245                -0.334823   \n\n     driver_slice_node2vec_9  ...  driver_slice_node2vec_23  \\\n288                -0.050722  ...                 -0.396895   \n289                -0.686390  ...                 -0.082310   \n290                 0.208179  ...                 -0.048451   \n291                -0.664655  ...                 -0.639096   \n292                 0.453720  ...                 -0.473628   \n\n     driver_slice_node2vec_24  driver_slice_node2vec_25  \\\n288                 -0.366272                 -0.801018   \n289                 -0.504325                 -0.384169   \n290                  0.508452                 -0.618720   \n291                 -0.647118                 -1.051379   \n292                  0.172872                  0.062855   \n\n     driver_slice_node2vec_26  driver_slice_node2vec_27  \\\n288                  0.024581                 -0.180310   \n289                 -0.421684                 -0.701152   \n290                  0.134620                 -0.916013   \n291                 -0.355336                 -0.411868   \n292                 -0.183283                 -0.795612   \n\n     driver_slice_node2vec_28  driver_slice_node2vec_29  \\\n288                 -0.657225                  0.564511   \n289                 -0.805651                  0.190792   \n290                 -0.638024                  0.096409   \n291                 -0.779836                 -0.003785   \n292                 -0.804481                  0.299493   \n\n     driver_slice_node2vec_30  driver_slice_node2vec_31  \\\n288                 -1.073502                 -1.041257   \n289                 -0.673654                  0.050129   \n290                 -0.732910                 -0.439665   \n291                 -0.475568                  0.146834   \n292                 -0.072041                 -0.411775   \n\n     driver_slice_node2vec_32  \n288                  0.530785  \n289                 -0.006333  \n290                  0.012675  \n291                 -0.469208  \n292                  0.377886  \n\n[5 rows x 33 columns]",
      "text/html": "<div>\n<style scoped>\n    .dataframe tbody tr th:only-of-type {\n        vertical-align: middle;\n    }\n\n    .dataframe tbody tr th {\n        vertical-align: top;\n    }\n\n    .dataframe thead th {\n        text-align: right;\n    }\n</style>\n<table border=\"1\" class=\"dataframe\">\n  <thead>\n    <tr style=\"text-align: right;\">\n      <th></th>\n      <th>driver_id</th>\n      <th>driver_slice_node2vec_1</th>\n      <th>driver_slice_node2vec_2</th>\n      <th>driver_slice_node2vec_3</th>\n      <th>driver_slice_node2vec_4</th>\n      <th>driver_slice_node2vec_5</th>\n      <th>driver_slice_node2vec_6</th>\n      <th>driver_slice_node2vec_7</th>\n      <th>driver_slice_node2vec_8</th>\n      <th>driver_slice_node2vec_9</th>\n      <th>...</th>\n      <th>driver_slice_node2vec_23</th>\n      <th>driver_slice_node2vec_24</th>\n      <th>driver_slice_node2vec_25</th>\n      <th>driver_slice_node2vec_26</th>\n      <th>driver_slice_node2vec_27</th>\n      <th>driver_slice_node2vec_28</th>\n      <th>driver_slice_node2vec_29</th>\n      <th>driver_slice_node2vec_30</th>\n      <th>driver_slice_node2vec_31</th>\n      <th>driver_slice_node2vec_32</th>\n    </tr>\n  </thead>\n  <tbody>\n    <tr>\n      <th>288</th>\n      <td>32841</td>\n      <td>0.251528</td>\n      <td>0.204280</td>\n      <td>-0.211265</td>\n      <td>0.149438</td>\n      <td>-0.582420</td>\n      <td>-1.030134</td>\n      <td>-0.170559</td>\n      <td>-0.178498</td>\n      <td>-0.050722</td>\n      <td>...</td>\n      <td>-0.396895</td>\n      <td>-0.366272</td>\n      <td>-0.801018</td>\n      <td>0.024581</td>\n      <td>-0.180310</td>\n      <td>-0.657225</td>\n      <td>0.564511</td>\n      <td>-1.073502</td>\n      <td>-1.041257</td>\n      <td>0.530785</td>\n    </tr>\n    <tr>\n      <th>289</th>\n      <td>5110</td>\n      <td>0.162684</td>\n      <td>-0.298046</td>\n      <td>0.384109</td>\n      <td>0.165838</td>\n      <td>-0.662947</td>\n      <td>0.604299</td>\n      <td>-0.367587</td>\n      <td>-0.366502</td>\n      <td>-0.686390</td>\n      <td>...</td>\n      <td>-0.082310</td>\n      <td>-0.504325</td>\n      <td>-0.384169</td>\n      <td>-0.421684</td>\n      <td>-0.701152</td>\n      <td>-0.805651</td>\n      <td>0.190792</td>\n      <td>-0.673654</td>\n      <td>0.050129</td>\n      <td>-0.006333</td>\n    </tr>\n    <tr>\n      <th>290</th>\n      <td>23497</td>\n      <td>0.285328</td>\n      <td>0.308566</td>\n      <td>0.406302</td>\n      <td>0.522508</td>\n      <td>-0.124148</td>\n      <td>-0.062725</td>\n      <td>-0.301508</td>\n      <td>-0.639524</td>\n      <td>0.208179</td>\n      <td>...</td>\n      <td>-0.048451</td>\n      <td>0.508452</td>\n      <td>-0.618720</td>\n      <td>0.134620</td>\n      <td>-0.916013</td>\n      <td>-0.638024</td>\n      <td>0.096409</td>\n      <td>-0.732910</td>\n      <td>-0.439665</td>\n      <td>0.012675</td>\n    </tr>\n    <tr>\n      <th>291</th>\n      <td>29482</td>\n      <td>0.743864</td>\n      <td>-0.305968</td>\n      <td>0.655279</td>\n      <td>0.558280</td>\n      <td>-0.121892</td>\n      <td>-0.479592</td>\n      <td>-0.362802</td>\n      <td>-0.167520</td>\n      <td>-0.664655</td>\n      <td>...</td>\n      <td>-0.639096</td>\n      <td>-0.647118</td>\n      <td>-1.051379</td>\n      <td>-0.355336</td>\n      <td>-0.411868</td>\n      <td>-0.779836</td>\n      <td>-0.003785</td>\n      <td>-0.475568</td>\n      <td>0.146834</td>\n      <td>-0.469208</td>\n    </tr>\n    <tr>\n      <th>292</th>\n      <td>999</td>\n      <td>0.978022</td>\n      <td>0.159972</td>\n      <td>0.076900</td>\n      <td>1.066224</td>\n      <td>0.465277</td>\n      <td>0.113227</td>\n      <td>-0.402245</td>\n      <td>-0.334823</td>\n      <td>0.453720</td>\n      <td>...</td>\n      <td>-0.473628</td>\n      <td>0.172872</td>\n      <td>0.062855</td>\n      <td>-0.183283</td>\n      <td>-0.795612</td>\n      <td>-0.804481</td>\n      <td>0.299493</td>\n      <td>-0.072041</td>\n      <td>-0.411775</td>\n      <td>0.377886</td>\n    </tr>\n  </tbody>\n</table>\n<p>5 rows × 33 columns</p>\n</div>"
     },
     "execution_count": 25,
     "metadata": {},
     "output_type": "execute_result"
    }
   ],
   "source": [
    "n2v.head()"
   ]
  },
  {
   "cell_type": "code",
   "execution_count": 26,
   "metadata": {},
   "outputs": [],
   "source": [
    "n2v.to_csv('./cache/kfc_driver_slice_new_n2v.csv',index=0)"
   ]
  },
  {
   "cell_type": "code",
   "execution_count": null,
   "metadata": {},
   "outputs": [],
   "source": []
  },
  {
   "cell_type": "code",
   "execution_count": null,
   "metadata": {},
   "outputs": [],
   "source": []
  },
  {
   "cell_type": "code",
   "execution_count": null,
   "metadata": {},
   "outputs": [],
   "source": []
  }
 ],
 "metadata": {
  "kernelspec": {
   "name": "python3",
   "language": "python",
   "display_name": "Python 3"
  },
  "language_info": {
   "codemirror_mode": {
    "name": "ipython",
    "version": 3
   },
   "file_extension": ".py",
   "mimetype": "text/x-python",
   "name": "python",
   "nbconvert_exporter": "python",
   "pygments_lexer": "ipython3",
   "version": "3.6.5"
  }
 },
 "nbformat": 4,
 "nbformat_minor": 4
}